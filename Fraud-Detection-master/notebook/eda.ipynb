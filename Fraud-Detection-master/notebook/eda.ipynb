{
 "cells": [
  {
   "cell_type": "code",
   "execution_count": 3,
   "metadata": {},
   "outputs": [],
   "source": [
    "import pandas as pd\n",
    "import numpy as np\n",
    "import matplotlib.pyplot as plt\n",
    "import seaborn as sns\n",
    "import os\n",
    "from time import time\n",
    "from tqdm import tqdm_notebook\n",
    "import datetime\n",
    "import gc\n",
    "from itertools import cycle, islice\n",
    "import lightgbm as lgb\n",
    "from sklearn.metrics import roc_auc_score\n",
    "from sklearn.model_selection import KFold, TimeSeriesSplit\n",
    "import multiprocessing\n",
    "import warnings\n",
    "import datetime\n",
    "from sklearn.preprocessing import LabelEncoder"
   ]
  },
  {
   "cell_type": "code",
   "execution_count": 4,
   "metadata": {},
   "outputs": [],
   "source": [
    "sns.set()\n",
    "%matplotlib inline"
   ]
  },
  {
   "cell_type": "code",
   "execution_count": 5,
   "metadata": {},
   "outputs": [],
   "source": [
    "warnings.simplefilter('ignore')\n",
    "files = ['./input/test_identity.csv', \n",
    "         './input/test_transaction.csv',\n",
    "         './input/train_identity.csv',\n",
    "         './input/train_transaction.csv',\n",
    "         './input/sample_submission.csv']"
   ]
  },
  {
   "cell_type": "code",
   "execution_count": 6,
   "metadata": {},
   "outputs": [],
   "source": [
    "#可以对数据进行压缩，从而减少内存消耗\n",
    "def reduce_mem_usage(df, verbose=True):\n",
    "    numerics = ['int16', 'int32', 'int64', 'float16', 'float32', 'float64']\n",
    "    start_mem = df.memory_usage().sum() / 1024**2\n",
    "    for col in df.columns:\n",
    "        col_type = df[col].dtypes\n",
    "        if col_type in numerics:\n",
    "            c_min = df[col].min()\n",
    "            c_max = df[col].max()\n",
    "            if str(col_type)[:3] == 'int':\n",
    "                if c_min > np.iinfo(np.int8).min and c_max < np.iinfo(np.int8).max:\n",
    "                    df[col] = df[col].astype(np.int8)\n",
    "                elif c_min > np.iinfo(np.int16).min and c_max < np.iinfo(np.int16).max:\n",
    "                    df[col] = df[col].astype(np.int16)\n",
    "                elif c_min > np.iinfo(np.int32).min and c_max < np.iinfo(np.int32).max:\n",
    "                    df[col] = df[col].astype(np.int32)\n",
    "                elif c_min > np.iinfo(np.int64).min and c_max < np.iinfo(np.int64).max:\n",
    "                    df[col] = df[col].astype(np.int64)\n",
    "            else:\n",
    "                if c_min > np.finfo(np.float16).min and c_max < np.finfo(np.float16).max:\n",
    "                    df[col] = df[col].astype(np.float16)\n",
    "                elif c_min > np.finfo(np.float32).min and c_max < np.finfo(np.float32).max:\n",
    "                    df[col] = df[col].astype(np.float32)\n",
    "                else:\n",
    "                    df[col] = df[col].astype(np.float64)\n",
    "    end_mem = df.memory_usage().sum() / 1024**2\n",
    "    if verbose: print('Mem. usage decreased to {:5.2f} Mb ({:.1f}% reduction)'.format(end_mem, 100 * (start_mem - end_mem) / start_mem))\n",
    "    return df\n",
    "\n",
    "def load_data(file):\n",
    "    return reduce_mem_usage(pd.read_csv(file))"
   ]
  },
  {
   "cell_type": "code",
   "execution_count": 85,
   "metadata": {},
   "outputs": [
    {
     "name": "stdout",
     "output_type": "stream",
     "text": [
      "Mem. usage decreased to  2.90 Mb (62.5% reduction)\n",
      "Mem. usage decreased to 25.44 Mb (42.7% reduction)\n",
      "Mem. usage decreased to 25.86 Mb (42.7% reduction)\n",
      "Mem. usage decreased to 472.59 Mb (68.9% reduction)\n",
      "Mem. usage decreased to 542.35 Mb (69.4% reduction)\n",
      "CPU times: user 1.33 s, sys: 1.6 s, total: 2.93 s\n",
      "Wall time: 2min 29s\n"
     ]
    }
   ],
   "source": [
    "%%time\n",
    "# 线程池读取多个数据集\n",
    "with multiprocessing.Pool() as pool:\n",
    "    test_identity, test_transaction, train_identity, train_transaction, sample_submission = pool.map(load_data,files)"
   ]
  },
  {
   "cell_type": "code",
   "execution_count": 90,
   "metadata": {},
   "outputs": [
    {
     "data": {
      "image/png": "[encoded data removed]",
      "text/plain": [
       "<Figure size 1080x576 with 4 Axes>"
      ]
     },
     "metadata": {
      "needs_background": "light"
     },
     "output_type": "display_data"
    }
   ],
   "source": [
    "#根绝y值不同来看x某个特征的分布\n",
    "train_transaction_fr = train_transaction.loc[train_transaction['isFraud'] == 1]\n",
    "train_transaction_nofr = train_transaction.loc[train_transaction['isFraud'] == 0]\n",
    "fig, ((ax1, ax2), (ax3, ax4)) = plt.subplots(2, 2, figsize=(15, 8))\n",
    "train_transaction_fr.groupby('card4')['card4'].count().plot(kind='barh', ax=ax1, title='Count of card4 fraud')\n",
    "train_transaction_nofr.groupby('card4')['card4'].count().plot(kind='barh', ax=ax2, title='Count of card4 non-fraud')\n",
    "train_transaction_fr.groupby('card6')['card6'].count().plot(kind='barh', ax=ax3, title='Count of card6 fraud')\n",
    "train_transaction_nofr.groupby('card6')['card6'].count().plot(kind='barh', ax=ax4, title='Count of card6 non-fraud')\n",
    "plt.show()"
   ]
  },
  {
   "cell_type": "code",
   "execution_count": 206,
   "metadata": {},
   "outputs": [],
   "source": [
    "#合并数据\n",
    "train = pd.merge(train_transaction, train_identity, on='TransactionID', how='left')\n",
    "test = pd.merge(test_transaction, test_identity, on='TransactionID', how='left')"
   ]
  },
  {
   "cell_type": "code",
   "execution_count": 9,
   "metadata": {},
   "outputs": [
    {
     "name": "stdout",
     "output_type": "stream",
     "text": [
      "% of train_transaction data missing =  41.073431200111266\n",
      "% of train_identity data missing =  35.58109650830896\n",
      "% of test_transaction data missing =  36.90570194240822\n",
      "% of test_identity data missing =  36.18627245910109\n",
      "% of train data missing =  45.074371905803936\n",
      "% of test data missing =  41.10668083585368\n"
     ]
    }
   ],
   "source": [
    "print (\"% of train_transaction data missing = \",(train_transaction[train_transaction.columns].isnull().sum().sum()/np.product(train_transaction.shape)) * 100)\n",
    "print (\"% of train_identity data missing = \",(train_identity[train_identity.columns].isnull().sum().sum()/np.product(train_identity.shape)) * 100)\n",
    "print (\"% of test_transaction data missing = \",(test_transaction[test_transaction.columns].isnull().sum().sum()/np.product(test_transaction.shape)) * 100)\n",
    "print (\"% of test_identity data missing = \",(test_identity[test_identity.columns].isnull().sum().sum()/np.product(test_identity.shape)) * 100)\n",
    "print (\"% of train data missing = \",(train[train.columns].isnull().sum().sum()/np.product(train.shape)) * 100)\n",
    "print (\"% of test data missing = \",(test[test.columns].isnull().sum().sum()/np.product(test.shape)) * 100)"
   ]
  },
  {
   "cell_type": "code",
   "execution_count": 10,
   "metadata": {},
   "outputs": [
    {
     "name": "stdout",
     "output_type": "stream",
     "text": [
      "len(train):'590540',len(test):'506691'\n"
     ]
    }
   ],
   "source": [
    "print(\"len(train):'{}',len(test):'{}'\".format(len(train),len(test)))"
   ]
  },
  {
   "cell_type": "code",
   "execution_count": 11,
   "metadata": {},
   "outputs": [
    {
     "data": {
      "text/plain": [
       "array(['TransactionID', 'isFraud', 'TransactionDT', 'TransactionAmt',\n",
       "       'ProductCD', 'card1', 'card2', 'card3', 'card4', 'card5', 'card6',\n",
       "       'addr1', 'addr2', 'dist1', 'dist2', 'P_emaildomain',\n",
       "       'R_emaildomain', 'C1', 'C2', 'C3', 'C4', 'C5', 'C6', 'C7', 'C8',\n",
       "       'C9', 'C10', 'C11', 'C12', 'C13', 'C14', 'D1', 'D2', 'D3', 'D4',\n",
       "       'D5', 'D6', 'D7', 'D8', 'D9', 'D10', 'D11', 'D12', 'D13', 'D14',\n",
       "       'D15', 'M1', 'M2', 'M3', 'M4', 'M5', 'M6', 'M7', 'M8', 'M9', 'V1',\n",
       "       'V2', 'V3', 'V4', 'V5', 'V6', 'V7', 'V8', 'V9', 'V10', 'V11',\n",
       "       'V12', 'V13', 'V14', 'V15', 'V16', 'V17', 'V18', 'V19', 'V20',\n",
       "       'V21', 'V22', 'V23', 'V24', 'V25', 'V26', 'V27', 'V28', 'V29',\n",
       "       'V30', 'V31', 'V32', 'V33', 'V34', 'V35', 'V36', 'V37', 'V38',\n",
       "       'V39', 'V40', 'V41', 'V42', 'V43', 'V44', 'V45', 'V46', 'V47',\n",
       "       'V48', 'V49', 'V50', 'V51', 'V52', 'V53', 'V54', 'V55', 'V56',\n",
       "       'V57', 'V58', 'V59', 'V60', 'V61', 'V62', 'V63', 'V64', 'V65',\n",
       "       'V66', 'V67', 'V68', 'V69', 'V70', 'V71', 'V72', 'V73', 'V74',\n",
       "       'V75', 'V76', 'V77', 'V78', 'V79', 'V80', 'V81', 'V82', 'V83',\n",
       "       'V84', 'V85', 'V86', 'V87', 'V88', 'V89', 'V90', 'V91', 'V92',\n",
       "       'V93', 'V94', 'V95', 'V96', 'V97', 'V98', 'V99', 'V100', 'V101',\n",
       "       'V102', 'V103', 'V104', 'V105', 'V106', 'V107', 'V108', 'V109',\n",
       "       'V110', 'V111', 'V112', 'V113', 'V114', 'V115', 'V116', 'V117',\n",
       "       'V118', 'V119', 'V120', 'V121', 'V122', 'V123', 'V124', 'V125',\n",
       "       'V126', 'V127', 'V128', 'V129', 'V130', 'V131', 'V132', 'V133',\n",
       "       'V134', 'V135', 'V136', 'V137', 'V138', 'V139', 'V140', 'V141',\n",
       "       'V142', 'V143', 'V144', 'V145', 'V146', 'V147', 'V148', 'V149',\n",
       "       'V150', 'V151', 'V152', 'V153', 'V154', 'V155', 'V156', 'V157',\n",
       "       'V158', 'V159', 'V160', 'V161', 'V162', 'V163', 'V164', 'V165',\n",
       "       'V166', 'V167', 'V168', 'V169', 'V170', 'V171', 'V172', 'V173',\n",
       "       'V174', 'V175', 'V176', 'V177', 'V178', 'V179', 'V180', 'V181',\n",
       "       'V182', 'V183', 'V184', 'V185', 'V186', 'V187', 'V188', 'V189',\n",
       "       'V190', 'V191', 'V192', 'V193', 'V194', 'V195', 'V196', 'V197',\n",
       "       'V198', 'V199', 'V200', 'V201', 'V202', 'V203', 'V204', 'V205',\n",
       "       'V206', 'V207', 'V208', 'V209', 'V210', 'V211', 'V212', 'V213',\n",
       "       'V214', 'V215', 'V216', 'V217', 'V218', 'V219', 'V220', 'V221',\n",
       "       'V222', 'V223', 'V224', 'V225', 'V226', 'V227', 'V228', 'V229',\n",
       "       'V230', 'V231', 'V232', 'V233', 'V234', 'V235', 'V236', 'V237',\n",
       "       'V238', 'V239', 'V240', 'V241', 'V242', 'V243', 'V244', 'V245',\n",
       "       'V246', 'V247', 'V248', 'V249', 'V250', 'V251', 'V252', 'V253',\n",
       "       'V254', 'V255', 'V256', 'V257', 'V258', 'V259', 'V260', 'V261',\n",
       "       'V262', 'V263', 'V264', 'V265', 'V266', 'V267', 'V268', 'V269',\n",
       "       'V270', 'V271', 'V272', 'V273', 'V274', 'V275', 'V276', 'V277',\n",
       "       'V278', 'V279', 'V280', 'V281', 'V282', 'V283', 'V284', 'V285',\n",
       "       'V286', 'V287', 'V288', 'V289', 'V290', 'V291', 'V292', 'V293',\n",
       "       'V294', 'V295', 'V296', 'V297', 'V298', 'V299', 'V300', 'V301',\n",
       "       'V302', 'V303', 'V304', 'V305', 'V306', 'V307', 'V308', 'V309',\n",
       "       'V310', 'V311', 'V312', 'V313', 'V314', 'V315', 'V316', 'V317',\n",
       "       'V318', 'V319', 'V320', 'V321', 'V322', 'V323', 'V324', 'V325',\n",
       "       'V326', 'V327', 'V328', 'V329', 'V330', 'V331', 'V332', 'V333',\n",
       "       'V334', 'V335', 'V336', 'V337', 'V338', 'V339', 'id_01', 'id_02',\n",
       "       'id_03', 'id_04', 'id_05', 'id_06', 'id_07', 'id_08', 'id_09',\n",
       "       'id_10', 'id_11', 'id_12', 'id_13', 'id_14', 'id_15', 'id_16',\n",
       "       'id_17', 'id_18', 'id_19', 'id_20', 'id_21', 'id_22', 'id_23',\n",
       "       'id_24', 'id_25', 'id_26', 'id_27', 'id_28', 'id_29', 'id_30',\n",
       "       'id_31', 'id_32', 'id_33', 'id_34', 'id_35', 'id_36', 'id_37',\n",
       "       'id_38', 'DeviceType', 'DeviceInfo'], dtype=object)"
      ]
     },
     "execution_count": 11,
     "metadata": {},
     "output_type": "execute_result"
    }
   ],
   "source": [
    "train.columns.values"
   ]
  },
  {
   "cell_type": "code",
   "execution_count": 12,
   "metadata": {},
   "outputs": [
    {
     "data": {
      "image/png": "[encoded data removed]",
      "text/plain": [
       "<Figure size 432x288 with 1 Axes>"
      ]
     },
     "metadata": {
      "needs_background": "light"
     },
     "output_type": "display_data"
    }
   ],
   "source": [
    "plt.hist(train['id_01'], bins=77);\n",
    "plt.title('Distribution of id_01 variable');\n",
    "#非正值 在0附近更多？？？"
   ]
  },
  {
   "cell_type": "code",
   "execution_count": 13,
   "metadata": {},
   "outputs": [
    {
     "data": {
      "text/plain": [
       "NaN     0.887689\n",
       " 0.0    0.108211\n",
       " 1.0    0.001461\n",
       " 3.0    0.001131\n",
       " 2.0    0.000713\n",
       "Name: id_03, dtype: float64"
      ]
     },
     "execution_count": 13,
     "metadata": {},
     "output_type": "execute_result"
    }
   ],
   "source": [
    "train['id_03'].value_counts(dropna=False, normalize=True).head()\n",
    "#id_03  88%的缺失值   缺失值或者值为0占了98%"
   ]
  },
  {
   "cell_type": "code",
   "execution_count": 14,
   "metadata": {},
   "outputs": [
    {
     "data": {
      "text/plain": [
       "NaN          0.761273\n",
       " 100.0000    0.225492\n",
       " 95.0625     0.002112\n",
       " 95.1875     0.001360\n",
       " 97.1250     0.000957\n",
       "Name: id_11, dtype: float64"
      ]
     },
     "execution_count": 14,
     "metadata": {},
     "output_type": "execute_result"
    }
   ],
   "source": [
    "train['id_11'].value_counts(dropna=False, normalize=True).head()\n",
    "#同样奇怪 "
   ]
  },
  {
   "cell_type": "code",
   "execution_count": 15,
   "metadata": {},
   "outputs": [
    {
     "data": {
      "image/png": "[encoded data removed]",
      "text/plain": [
       "<Figure size 432x288 with 1 Axes>"
      ]
     },
     "metadata": {
      "needs_background": "light"
     },
     "output_type": "display_data"
    }
   ],
   "source": [
    "plt.hist(train['id_07']);\n",
    "plt.title('Distribution of id_07 variable');\n",
    "#标准化的正态分布 所以想统一处理一批数据变标准化 必须把这些之前已经正态化的数据提出"
   ]
  },
  {
   "cell_type": "code",
   "execution_count": 16,
   "metadata": {},
   "outputs": [
    {
     "data": {
      "text/plain": [
       "NaN         0.755761\n",
       "NotFound    0.208326\n",
       "Found       0.035913\n",
       "Name: id_12, dtype: float64"
      ]
     },
     "execution_count": 16,
     "metadata": {},
     "output_type": "execute_result"
    }
   ],
   "source": [
    "train['id_12'].value_counts(dropna=False, normalize=True).head() #id_15,id_28,id_29,id_34,id_35.id_37,id_38"
   ]
  },
  {
   "cell_type": "code",
   "execution_count": 17,
   "metadata": {},
   "outputs": [
    {
     "data": {
      "text/plain": [
       "NaN           0.868654\n",
       "Windows 10    0.035823\n",
       "Windows 7     0.022200\n",
       "iOS 11.2.1    0.006303\n",
       "iOS 11.1.2    0.006264\n",
       "Name: id_30, dtype: float64"
      ]
     },
     "execution_count": 17,
     "metadata": {},
     "output_type": "execute_result"
    }
   ],
   "source": [
    "train['id_30'].value_counts(dropna=False, normalize=True).head()"
   ]
  },
  {
   "cell_type": "code",
   "execution_count": 18,
   "metadata": {},
   "outputs": [
    {
     "data": {
      "image/png": "[encoded data removed]",
      "text/plain": [
       "<Figure size 576x576 with 1 Axes>"
      ]
     },
     "metadata": {
      "needs_background": "light"
     },
     "output_type": "display_data"
    }
   ],
   "source": [
    "plt.figure(figsize=(8, 8))\n",
    "sns.barplot(train[\"id_30\"].value_counts(dropna=False)[:20],\n",
    "            train[\"id_30\"].value_counts(dropna=False).keys()[:20])\n",
    "plt.show()"
   ]
  },
  {
   "cell_type": "code",
   "execution_count": 19,
   "metadata": {},
   "outputs": [
    {
     "data": {
      "text/plain": [
       "NaN                      0.762451\n",
       "chrome 63.0              0.037254\n",
       "mobile safari 11.0       0.022730\n",
       "mobile safari generic    0.019430\n",
       "ie 11.0 for desktop      0.015291\n",
       "Name: id_31, dtype: float64"
      ]
     },
     "execution_count": 19,
     "metadata": {},
     "output_type": "execute_result"
    }
   ],
   "source": [
    "train['id_31'].value_counts(dropna=False, normalize=True).head()"
   ]
  },
  {
   "cell_type": "code",
   "execution_count": 20,
   "metadata": {},
   "outputs": [
    {
     "data": {
      "text/plain": [
       "NaN          0.875895\n",
       "1920x1080    0.028574\n",
       "1366x768     0.014571\n",
       "1334x750     0.010917\n",
       "2208x1242    0.008297\n",
       "Name: id_33, dtype: float64"
      ]
     },
     "execution_count": 20,
     "metadata": {},
     "output_type": "execute_result"
    }
   ],
   "source": [
    "train['id_33'].value_counts(dropna=False, normalize=True).head()"
   ]
  },
  {
   "cell_type": "code",
   "execution_count": 21,
   "metadata": {},
   "outputs": [
    {
     "data": {
      "text/plain": [
       "NaN            0.799055\n",
       "Windows        0.080811\n",
       "iOS Device     0.033498\n",
       "MacOS          0.021291\n",
       "Trident/7.0    0.012599\n",
       "Name: DeviceInfo, dtype: float64"
      ]
     },
     "execution_count": 21,
     "metadata": {},
     "output_type": "execute_result"
    }
   ],
   "source": [
    "train['DeviceInfo'].value_counts(dropna=False, normalize=True).head()"
   ]
  },
  {
   "cell_type": "code",
   "execution_count": null,
   "metadata": {},
   "outputs": [],
   "source": []
  },
  {
   "cell_type": "code",
   "execution_count": null,
   "metadata": {},
   "outputs": [],
   "source": []
  },
  {
   "cell_type": "code",
   "execution_count": 82,
   "metadata": {},
   "outputs": [
    {
     "data": {
      "image/png": "[encoded data removed]",
      "text/plain": [
       "<Figure size 432x288 with 1 Axes>"
      ]
     },
     "metadata": {
      "needs_background": "light"
     },
     "output_type": "display_data"
    }
   ],
   "source": [
    "plt.hist(train['TransactionDT'], label='train');\n",
    "plt.hist(test['TransactionDT'], label='test');\n",
    "plt.legend();\n",
    "plt.title('Distribution of transactiond dates');\n",
    "#train 和 test 的TransactionDT 日期没有重叠 所以使用基于时间的分割进行验证是明智的"
   ]
  },
  {
   "cell_type": "code",
   "execution_count": 89,
   "metadata": {},
   "outputs": [
    {
     "data": {
      "image/png": "[encoded data removed]",
      "text/plain": [
       "<Figure size 288x144 with 1 Axes>"
      ]
     },
     "metadata": {
      "needs_background": "light"
     },
     "output_type": "display_data"
    }
   ],
   "source": [
    "plt.figure(figsize=(4, 2))\n",
    "sns.barplot(train[\"ProductCD\"].value_counts(dropna=False)[:20],\n",
    "            train[\"ProductCD\"].value_counts(dropna=False).keys()[:20])\n",
    "plt.show()"
   ]
  },
  {
   "cell_type": "code",
   "execution_count": 72,
   "metadata": {},
   "outputs": [
    {
     "data": {
      "text/plain": [
       "Text(0, 0.5, 'Count')"
      ]
     },
     "execution_count": 72,
     "metadata": {},
     "output_type": "execute_result"
    },
    {
     "data": {
      "image/png": "[encoded data removed]",
      "text/plain": [
       "<Figure size 432x288 with 2 Axes>"
      ]
     },
     "metadata": {
      "needs_background": "light"
     },
     "output_type": "display_data"
    }
   ],
   "source": [
    "tmp = pd.crosstab(train_transaction['ProductCD'], train_transaction['isFraud'], normalize='index') * 100\n",
    "tmp = tmp.reset_index()\n",
    "tmp.rename(columns={0:'NoFraud', 1:'Fraud'}, inplace=True)\n",
    "\n",
    "plt.figure(figsize=(6, 4))\n",
    "plot_2 = sns.countplot(x='ProductCD', hue='isFraud', data=train_transaction)\n",
    "plt.legend(title='Fraud', loc='best', labels=['No', 'Yes'])\n",
    "plot_2_2 = plot_2.twinx()\n",
    "plot_2_2 = sns.pointplot(x='ProductCD', y='Fraud', data=tmp, color='black', order=['W', 'H',\"C\", \"S\", \"R\"], legend=False)\n",
    "plot_2_2.set_ylabel(\"% of Fraud Transactions\", fontsize=16)\n",
    "\n",
    "plot_2.set_title(\"Product CD by Target(isFraud)\", fontsize=18)\n",
    "plot_2.set_xlabel(\"ProductCD Name\", fontsize=16)\n",
    "plot_2.set_ylabel(\"Count\", fontsize=16)"
   ]
  },
  {
   "cell_type": "code",
   "execution_count": 65,
   "metadata": {},
   "outputs": [],
   "source": [
    "train['card1_count_full'] = train['card1'].map(pd.concat([train['card1'], test['card1']], ignore_index=True).value_counts(dropna=False))"
   ]
  },
  {
   "cell_type": "code",
   "execution_count": 67,
   "metadata": {
    "scrolled": false
   },
   "outputs": [],
   "source": [
    "#train.groupby(['card1'])['D15'].transform('mean')\n",
    "#train +test 组合以后看value值的count个数 然后对train[card3] 整个字断根据value值赋给之前得到的相应的count值\n",
    "train['card3_count_full'] = train['card3'].map(pd.concat([train['card3'], test['card3']], ignore_index=True).value_counts(dropna=False))"
   ]
  },
  {
   "cell_type": "code",
   "execution_count": 91,
   "metadata": {},
   "outputs": [
    {
     "data": {
      "text/plain": [
       "debit              439938\n",
       "credit             148986\n",
       "NaN                  1571\n",
       "debit or credit        30\n",
       "charge card            15\n",
       "Name: card6, dtype: int64"
      ]
     },
     "execution_count": 91,
     "metadata": {},
     "output_type": "execute_result"
    }
   ],
   "source": [
    "train[\"card6\"].value_counts(dropna=False)[:20]\n",
    "#卡的类型"
   ]
  },
  {
   "cell_type": "code",
   "execution_count": 90,
   "metadata": {},
   "outputs": [
    {
     "data": {
      "image/png": "[encoded data removed]",
      "text/plain": [
       "<Figure size 288x144 with 1 Axes>"
      ]
     },
     "metadata": {
      "needs_background": "light"
     },
     "output_type": "display_data"
    }
   ],
   "source": [
    "plt.figure(figsize=(4, 2))\n",
    "sns.barplot(train[\"card6\"].value_counts(dropna=False)[:20],\n",
    "            train[\"card6\"].value_counts(dropna=False).keys()[:20])\n",
    "plt.show()"
   ]
  },
  {
   "cell_type": "code",
   "execution_count": 92,
   "metadata": {},
   "outputs": [
    {
     "data": {
      "text/plain": [
       "visa                384767\n",
       "mastercard          189217\n",
       "american express      8328\n",
       "discover              6651\n",
       "NaN                   1577\n",
       "Name: card4, dtype: int64"
      ]
     },
     "execution_count": 92,
     "metadata": {},
     "output_type": "execute_result"
    }
   ],
   "source": [
    "train[\"card4\"].value_counts(dropna=False)[:20]\n",
    "#信用卡公司"
   ]
  },
  {
   "cell_type": "code",
   "execution_count": 309,
   "metadata": {},
   "outputs": [],
   "source": [
    "#train['TransactionDT']"
   ]
  },
  {
   "cell_type": "code",
   "execution_count": 305,
   "metadata": {},
   "outputs": [
    {
     "data": {
      "text/plain": [
       "0.0       451883\n",
       "1.0       111817\n",
       "2.0        12994\n",
       "3.0         4949\n",
       "4.0         1902\n",
       "5.0          851\n",
       "6.0          597\n",
       "7.0          372\n",
       "9.0          273\n",
       "10.0         233\n",
       "8.0          226\n",
       "12.0         175\n",
       "11.0         167\n",
       "16.0         116\n",
       "15.0         116\n",
       "17.0         113\n",
       "13.0         109\n",
       "14.0          91\n",
       "20.0          81\n",
       "18.0          71\n",
       "52.0          63\n",
       "21.0          60\n",
       "19.0          58\n",
       "30.0          49\n",
       "83.0          43\n",
       "24.0          41\n",
       "70.0          40\n",
       "51.0          39\n",
       "91.0          35\n",
       "39.0          35\n",
       "           ...  \n",
       "1010.0         1\n",
       "1792.0         1\n",
       "252.0          1\n",
       "1007.0         1\n",
       "2016.0         1\n",
       "1733.0         1\n",
       "1030.0         1\n",
       "258.0          1\n",
       "1725.0         1\n",
       "1715.0         1\n",
       "1059.0         1\n",
       "1058.0         1\n",
       "1057.0         1\n",
       "429.0          1\n",
       "1717.0         1\n",
       "430.0          1\n",
       "431.0          1\n",
       "1051.0         1\n",
       "1049.0         1\n",
       "259.0          1\n",
       "1726.0         1\n",
       "1730.0         1\n",
       "1045.0         1\n",
       "1908.0         1\n",
       "1042.0         1\n",
       "288.0          1\n",
       "260.0          1\n",
       "433.0          1\n",
       "1037.0         1\n",
       "1061.0         1\n",
       "Name: C4, Length: 1223, dtype: int64"
      ]
     },
     "execution_count": 305,
     "metadata": {},
     "output_type": "execute_result"
    }
   ],
   "source": [
    "train['C4'].value_counts()"
   ]
  },
  {
   "cell_type": "code",
   "execution_count": 301,
   "metadata": {},
   "outputs": [
    {
     "data": {
      "text/plain": [
       "T      285468\n",
       "NaN    271100\n",
       "F       33972\n",
       "Name: M2, dtype: int64"
      ]
     },
     "execution_count": 301,
     "metadata": {},
     "output_type": "execute_result"
    }
   ],
   "source": [
    "train[\"M2\"].value_counts(dropna=False)[:]"
   ]
  },
  {
   "cell_type": "code",
   "execution_count": 97,
   "metadata": {},
   "outputs": [
    {
     "data": {
      "text/plain": [
       "NaN    271100\n",
       "T      251731\n",
       "F       67709\n",
       "Name: M3, dtype: int64"
      ]
     },
     "execution_count": 97,
     "metadata": {},
     "output_type": "execute_result"
    }
   ],
   "source": [
    "train[\"M3\"].value_counts(dropna=False)[:]#M系列都是如此"
   ]
  },
  {
   "cell_type": "code",
   "execution_count": 175,
   "metadata": {},
   "outputs": [],
   "source": [
    "i_cols = ['M1','M2','M3','M5','M6','M7','M8','M9']\n",
    "\n",
    "def getx(x):\n",
    "    if x=='T':\n",
    "        return 1\n",
    "    elif x=='F':\n",
    "        return 0\n",
    "    \n",
    "for df in [train, test]:\n",
    "    aa = df[i_cols].applymap(getx)\n",
    "    df['M_sum'] = aa.sum(axis=1).astype(np.int8)\n",
    "    df['M_na'] = df[i_cols].isna().sum(axis=1).astype(np.int8)"
   ]
  },
  {
   "cell_type": "code",
   "execution_count": 181,
   "metadata": {
    "scrolled": true
   },
   "outputs": [
    {
     "data": {
      "text/plain": [
       " 1.0    311236\n",
       "NaN     279287\n",
       " 0.0        17\n",
       "Name: V1, dtype: int64"
      ]
     },
     "execution_count": 181,
     "metadata": {},
     "output_type": "execute_result"
    }
   ],
   "source": [
    "train['V1'].value_counts(dropna=False)[:]"
   ]
  },
  {
   "cell_type": "code",
   "execution_count": 99,
   "metadata": {},
   "outputs": [
    {
     "data": {
      "text/plain": [
       "gmail.com        228355\n",
       "yahoo.com        100934\n",
       "NaN               94456\n",
       "hotmail.com       45250\n",
       "anonymous.com     36998\n",
       "aol.com           28289\n",
       "comcast.net        7888\n",
       "icloud.com         6267\n",
       "outlook.com        5096\n",
       "msn.com            4092\n",
       "Name: P_emaildomain, dtype: int64"
      ]
     },
     "execution_count": 99,
     "metadata": {},
     "output_type": "execute_result"
    }
   ],
   "source": [
    "train[\"P_emaildomain\"].value_counts(dropna=False)[:10]\n",
    "#邮箱"
   ]
  },
  {
   "cell_type": "code",
   "execution_count": null,
   "metadata": {},
   "outputs": [],
   "source": []
  },
  {
   "cell_type": "code",
   "execution_count": 23,
   "metadata": {},
   "outputs": [
    {
     "data": {
      "text/plain": [
       "NaN              453249\n",
       "gmail.com         57147\n",
       "hotmail.com       27509\n",
       "anonymous.com     20529\n",
       "yahoo.com         11842\n",
       "aol.com            3701\n",
       "outlook.com        2507\n",
       "comcast.net        1812\n",
       "yahoo.com.mx       1508\n",
       "icloud.com         1398\n",
       "Name: R_emaildomain, dtype: int64"
      ]
     },
     "execution_count": 23,
     "metadata": {},
     "output_type": "execute_result"
    }
   ],
   "source": [
    "train[\"R_emaildomain\"].value_counts(dropna=False)[:10]\n",
    "#为啥有两个字段 切后一个有很多空值呢?"
   ]
  },
  {
   "cell_type": "code",
   "execution_count": 28,
   "metadata": {},
   "outputs": [
    {
     "data": {
      "image/png": "[encoded data removed]",
      "text/plain": [
       "<Figure size 432x288 with 1 Axes>"
      ]
     },
     "metadata": {
      "needs_background": "light"
     },
     "output_type": "display_data"
    }
   ],
   "source": [
    "# 'addr1', 'addr2', 'dist1', 'dist2',\n",
    "plt.hist(train['addr1']);\n",
    "plt.title('Distribution of addr1 variable');"
   ]
  },
  {
   "cell_type": "code",
   "execution_count": 29,
   "metadata": {},
   "outputs": [
    {
     "data": {
      "image/png": "[encoded data removed]",
      "text/plain": [
       "<Figure size 432x288 with 1 Axes>"
      ]
     },
     "metadata": {
      "needs_background": "light"
     },
     "output_type": "display_data"
    }
   ],
   "source": [
    "plt.hist(train['addr2']);\n",
    "plt.title('Distribution of addr1 variable');"
   ]
  },
  {
   "cell_type": "code",
   "execution_count": 44,
   "metadata": {},
   "outputs": [
    {
     "data": {
      "text/plain": [
       " 87.0     520481\n",
       "NaN        65706\n",
       " 60.0       3084\n",
       " 96.0        638\n",
       " 32.0         91\n",
       " 65.0         82\n",
       " 16.0         55\n",
       " 31.0         47\n",
       " 19.0         33\n",
       " 26.0         25\n",
       " 27.0         20\n",
       " 59.0         17\n",
       " 69.0         17\n",
       " 34.0         16\n",
       " 43.0         12\n",
       " 102.0        11\n",
       " 29.0         11\n",
       " 98.0         11\n",
       " 68.0         10\n",
       " 57.0         10\n",
       " 78.0          8\n",
       " 10.0          8\n",
       "Name: addr2, dtype: int64"
      ]
     },
     "execution_count": 44,
     "metadata": {},
     "output_type": "execute_result"
    }
   ],
   "source": [
    "train['addr2'].value_counts(dropna=False)[:10]"
   ]
  },
  {
   "cell_type": "code",
   "execution_count": 45,
   "metadata": {},
   "outputs": [
    {
     "data": {
      "image/png": "[encoded data removed]",
      "text/plain": [
       "<Figure size 432x288 with 1 Axes>"
      ]
     },
     "metadata": {
      "needs_background": "light"
     },
     "output_type": "display_data"
    }
   ],
   "source": [
    "plt.hist(train['dist1']);\n",
    "plt.title('Distribution of addr1 variable');"
   ]
  },
  {
   "cell_type": "code",
   "execution_count": 190,
   "metadata": {},
   "outputs": [],
   "source": [
    "i_cols = ['M1','M2','M3','M5','M6','M7','M8','M9']\n",
    "#统计M1-M9共有多少个T\n",
    "def getx(x):\n",
    "    if x=='T':\n",
    "        return 1\n",
    "    elif x=='F':\n",
    "        return 0\n",
    "    \n",
    "aa = train[i_cols].applymap(getx)"
   ]
  },
  {
   "cell_type": "code",
   "execution_count": 192,
   "metadata": {},
   "outputs": [],
   "source": [
    "aa.drop(['M1','M2'],axis=1, inplace=True)"
   ]
  },
  {
   "cell_type": "code",
   "execution_count": 196,
   "metadata": {},
   "outputs": [],
   "source": [
    "import featuretools as ft"
   ]
  },
  {
   "cell_type": "code",
   "execution_count": 197,
   "metadata": {},
   "outputs": [],
   "source": [
    "data = ft.demo.load_mock_customer()"
   ]
  },
  {
   "cell_type": "code",
   "execution_count": 201,
   "metadata": {},
   "outputs": [],
   "source": [
    "customers_df = data[\"customers\"]\n",
    "sessions_df = data[\"sessions\"]\n",
    "transactions_df = data[\"transactions\"]"
   ]
  },
  {
   "cell_type": "code",
   "execution_count": 204,
   "metadata": {},
   "outputs": [
    {
     "data": {
      "text/html": [
       "<div>\n",
       "<style scoped>\n",
       "    .dataframe tbody tr th:only-of-type {\n",
       "        vertical-align: middle;\n",
       "    }\n",
       "\n",
       "    .dataframe tbody tr th {\n",
       "        vertical-align: top;\n",
       "    }\n",
       "\n",
       "    .dataframe thead th {\n",
       "        text-align: right;\n",
       "    }\n",
       "</style>\n",
       "<table border=\"1\" class=\"dataframe\">\n",
       "  <thead>\n",
       "    <tr style=\"text-align: right;\">\n",
       "      <th></th>\n",
       "      <th>transaction_id</th>\n",
       "      <th>session_id</th>\n",
       "      <th>transaction_time</th>\n",
       "      <th>product_id</th>\n",
       "      <th>amount</th>\n",
       "    </tr>\n",
       "  </thead>\n",
       "  <tbody>\n",
       "    <tr>\n",
       "      <th>0</th>\n",
       "      <td>298</td>\n",
       "      <td>1</td>\n",
       "      <td>2014-01-01 00:00:00</td>\n",
       "      <td>5</td>\n",
       "      <td>127.64</td>\n",
       "    </tr>\n",
       "    <tr>\n",
       "      <th>1</th>\n",
       "      <td>2</td>\n",
       "      <td>1</td>\n",
       "      <td>2014-01-01 00:01:05</td>\n",
       "      <td>2</td>\n",
       "      <td>109.48</td>\n",
       "    </tr>\n",
       "    <tr>\n",
       "      <th>2</th>\n",
       "      <td>308</td>\n",
       "      <td>1</td>\n",
       "      <td>2014-01-01 00:02:10</td>\n",
       "      <td>3</td>\n",
       "      <td>95.06</td>\n",
       "    </tr>\n",
       "    <tr>\n",
       "      <th>3</th>\n",
       "      <td>116</td>\n",
       "      <td>1</td>\n",
       "      <td>2014-01-01 00:03:15</td>\n",
       "      <td>4</td>\n",
       "      <td>78.92</td>\n",
       "    </tr>\n",
       "    <tr>\n",
       "      <th>4</th>\n",
       "      <td>371</td>\n",
       "      <td>1</td>\n",
       "      <td>2014-01-01 00:04:20</td>\n",
       "      <td>3</td>\n",
       "      <td>31.54</td>\n",
       "    </tr>\n",
       "    <tr>\n",
       "      <th>5</th>\n",
       "      <td>486</td>\n",
       "      <td>1</td>\n",
       "      <td>2014-01-01 00:05:25</td>\n",
       "      <td>3</td>\n",
       "      <td>23.76</td>\n",
       "    </tr>\n",
       "    <tr>\n",
       "      <th>6</th>\n",
       "      <td>271</td>\n",
       "      <td>1</td>\n",
       "      <td>2014-01-01 00:06:30</td>\n",
       "      <td>3</td>\n",
       "      <td>43.63</td>\n",
       "    </tr>\n",
       "    <tr>\n",
       "      <th>7</th>\n",
       "      <td>192</td>\n",
       "      <td>1</td>\n",
       "      <td>2014-01-01 00:07:35</td>\n",
       "      <td>4</td>\n",
       "      <td>42.27</td>\n",
       "    </tr>\n",
       "    <tr>\n",
       "      <th>8</th>\n",
       "      <td>341</td>\n",
       "      <td>1</td>\n",
       "      <td>2014-01-01 00:08:40</td>\n",
       "      <td>3</td>\n",
       "      <td>47.68</td>\n",
       "    </tr>\n",
       "    <tr>\n",
       "      <th>9</th>\n",
       "      <td>10</td>\n",
       "      <td>1</td>\n",
       "      <td>2014-01-01 00:09:45</td>\n",
       "      <td>5</td>\n",
       "      <td>57.39</td>\n",
       "    </tr>\n",
       "    <tr>\n",
       "      <th>10</th>\n",
       "      <td>29</td>\n",
       "      <td>1</td>\n",
       "      <td>2014-01-01 00:10:50</td>\n",
       "      <td>2</td>\n",
       "      <td>20.91</td>\n",
       "    </tr>\n",
       "    <tr>\n",
       "      <th>11</th>\n",
       "      <td>158</td>\n",
       "      <td>1</td>\n",
       "      <td>2014-01-01 00:11:55</td>\n",
       "      <td>4</td>\n",
       "      <td>141.66</td>\n",
       "    </tr>\n",
       "    <tr>\n",
       "      <th>12</th>\n",
       "      <td>245</td>\n",
       "      <td>1</td>\n",
       "      <td>2014-01-01 00:13:00</td>\n",
       "      <td>1</td>\n",
       "      <td>121.75</td>\n",
       "    </tr>\n",
       "    <tr>\n",
       "      <th>13</th>\n",
       "      <td>495</td>\n",
       "      <td>1</td>\n",
       "      <td>2014-01-01 00:14:05</td>\n",
       "      <td>5</td>\n",
       "      <td>69.45</td>\n",
       "    </tr>\n",
       "    <tr>\n",
       "      <th>14</th>\n",
       "      <td>438</td>\n",
       "      <td>1</td>\n",
       "      <td>2014-01-01 00:15:10</td>\n",
       "      <td>4</td>\n",
       "      <td>76.38</td>\n",
       "    </tr>\n",
       "    <tr>\n",
       "      <th>15</th>\n",
       "      <td>175</td>\n",
       "      <td>1</td>\n",
       "      <td>2014-01-01 00:16:15</td>\n",
       "      <td>2</td>\n",
       "      <td>141.49</td>\n",
       "    </tr>\n",
       "    <tr>\n",
       "      <th>16</th>\n",
       "      <td>353</td>\n",
       "      <td>2</td>\n",
       "      <td>2014-01-01 00:17:20</td>\n",
       "      <td>4</td>\n",
       "      <td>42.99</td>\n",
       "    </tr>\n",
       "    <tr>\n",
       "      <th>17</th>\n",
       "      <td>270</td>\n",
       "      <td>2</td>\n",
       "      <td>2014-01-01 00:18:25</td>\n",
       "      <td>5</td>\n",
       "      <td>123.53</td>\n",
       "    </tr>\n",
       "    <tr>\n",
       "      <th>18</th>\n",
       "      <td>453</td>\n",
       "      <td>2</td>\n",
       "      <td>2014-01-01 00:19:30</td>\n",
       "      <td>5</td>\n",
       "      <td>9.32</td>\n",
       "    </tr>\n",
       "    <tr>\n",
       "      <th>19</th>\n",
       "      <td>370</td>\n",
       "      <td>2</td>\n",
       "      <td>2014-01-01 00:20:35</td>\n",
       "      <td>1</td>\n",
       "      <td>106.99</td>\n",
       "    </tr>\n",
       "    <tr>\n",
       "      <th>20</th>\n",
       "      <td>22</td>\n",
       "      <td>2</td>\n",
       "      <td>2014-01-01 00:21:40</td>\n",
       "      <td>3</td>\n",
       "      <td>116.02</td>\n",
       "    </tr>\n",
       "    <tr>\n",
       "      <th>21</th>\n",
       "      <td>250</td>\n",
       "      <td>2</td>\n",
       "      <td>2014-01-01 00:22:45</td>\n",
       "      <td>2</td>\n",
       "      <td>60.09</td>\n",
       "    </tr>\n",
       "    <tr>\n",
       "      <th>22</th>\n",
       "      <td>74</td>\n",
       "      <td>2</td>\n",
       "      <td>2014-01-01 00:23:50</td>\n",
       "      <td>5</td>\n",
       "      <td>90.69</td>\n",
       "    </tr>\n",
       "    <tr>\n",
       "      <th>23</th>\n",
       "      <td>207</td>\n",
       "      <td>2</td>\n",
       "      <td>2014-01-01 00:24:55</td>\n",
       "      <td>5</td>\n",
       "      <td>48.27</td>\n",
       "    </tr>\n",
       "    <tr>\n",
       "      <th>24</th>\n",
       "      <td>399</td>\n",
       "      <td>2</td>\n",
       "      <td>2014-01-01 00:26:00</td>\n",
       "      <td>2</td>\n",
       "      <td>135.25</td>\n",
       "    </tr>\n",
       "    <tr>\n",
       "      <th>25</th>\n",
       "      <td>122</td>\n",
       "      <td>2</td>\n",
       "      <td>2014-01-01 00:27:05</td>\n",
       "      <td>5</td>\n",
       "      <td>13.81</td>\n",
       "    </tr>\n",
       "    <tr>\n",
       "      <th>26</th>\n",
       "      <td>496</td>\n",
       "      <td>3</td>\n",
       "      <td>2014-01-01 00:28:10</td>\n",
       "      <td>1</td>\n",
       "      <td>137.82</td>\n",
       "    </tr>\n",
       "    <tr>\n",
       "      <th>27</th>\n",
       "      <td>459</td>\n",
       "      <td>3</td>\n",
       "      <td>2014-01-01 00:29:15</td>\n",
       "      <td>1</td>\n",
       "      <td>23.20</td>\n",
       "    </tr>\n",
       "    <tr>\n",
       "      <th>28</th>\n",
       "      <td>134</td>\n",
       "      <td>3</td>\n",
       "      <td>2014-01-01 00:30:20</td>\n",
       "      <td>3</td>\n",
       "      <td>120.08</td>\n",
       "    </tr>\n",
       "    <tr>\n",
       "      <th>29</th>\n",
       "      <td>384</td>\n",
       "      <td>3</td>\n",
       "      <td>2014-01-01 00:31:25</td>\n",
       "      <td>4</td>\n",
       "      <td>26.16</td>\n",
       "    </tr>\n",
       "    <tr>\n",
       "      <th>...</th>\n",
       "      <td>...</td>\n",
       "      <td>...</td>\n",
       "      <td>...</td>\n",
       "      <td>...</td>\n",
       "      <td>...</td>\n",
       "    </tr>\n",
       "    <tr>\n",
       "      <th>470</th>\n",
       "      <td>497</td>\n",
       "      <td>34</td>\n",
       "      <td>2014-01-01 08:29:10</td>\n",
       "      <td>5</td>\n",
       "      <td>148.86</td>\n",
       "    </tr>\n",
       "    <tr>\n",
       "      <th>471</th>\n",
       "      <td>430</td>\n",
       "      <td>34</td>\n",
       "      <td>2014-01-01 08:30:15</td>\n",
       "      <td>4</td>\n",
       "      <td>34.68</td>\n",
       "    </tr>\n",
       "    <tr>\n",
       "      <th>472</th>\n",
       "      <td>500</td>\n",
       "      <td>34</td>\n",
       "      <td>2014-01-01 08:31:20</td>\n",
       "      <td>2</td>\n",
       "      <td>129.35</td>\n",
       "    </tr>\n",
       "    <tr>\n",
       "      <th>473</th>\n",
       "      <td>467</td>\n",
       "      <td>34</td>\n",
       "      <td>2014-01-01 08:32:25</td>\n",
       "      <td>5</td>\n",
       "      <td>145.19</td>\n",
       "    </tr>\n",
       "    <tr>\n",
       "      <th>474</th>\n",
       "      <td>425</td>\n",
       "      <td>34</td>\n",
       "      <td>2014-01-01 08:33:30</td>\n",
       "      <td>3</td>\n",
       "      <td>70.38</td>\n",
       "    </tr>\n",
       "    <tr>\n",
       "      <th>475</th>\n",
       "      <td>361</td>\n",
       "      <td>34</td>\n",
       "      <td>2014-01-01 08:34:35</td>\n",
       "      <td>3</td>\n",
       "      <td>71.63</td>\n",
       "    </tr>\n",
       "    <tr>\n",
       "      <th>476</th>\n",
       "      <td>469</td>\n",
       "      <td>34</td>\n",
       "      <td>2014-01-01 08:35:40</td>\n",
       "      <td>3</td>\n",
       "      <td>14.48</td>\n",
       "    </tr>\n",
       "    <tr>\n",
       "      <th>477</th>\n",
       "      <td>284</td>\n",
       "      <td>34</td>\n",
       "      <td>2014-01-01 08:36:45</td>\n",
       "      <td>1</td>\n",
       "      <td>30.04</td>\n",
       "    </tr>\n",
       "    <tr>\n",
       "      <th>478</th>\n",
       "      <td>277</td>\n",
       "      <td>34</td>\n",
       "      <td>2014-01-01 08:37:50</td>\n",
       "      <td>4</td>\n",
       "      <td>128.34</td>\n",
       "    </tr>\n",
       "    <tr>\n",
       "      <th>479</th>\n",
       "      <td>267</td>\n",
       "      <td>34</td>\n",
       "      <td>2014-01-01 08:38:55</td>\n",
       "      <td>5</td>\n",
       "      <td>58.47</td>\n",
       "    </tr>\n",
       "    <tr>\n",
       "      <th>480</th>\n",
       "      <td>319</td>\n",
       "      <td>34</td>\n",
       "      <td>2014-01-01 08:40:00</td>\n",
       "      <td>4</td>\n",
       "      <td>128.23</td>\n",
       "    </tr>\n",
       "    <tr>\n",
       "      <th>481</th>\n",
       "      <td>241</td>\n",
       "      <td>34</td>\n",
       "      <td>2014-01-01 08:41:05</td>\n",
       "      <td>4</td>\n",
       "      <td>27.57</td>\n",
       "    </tr>\n",
       "    <tr>\n",
       "      <th>482</th>\n",
       "      <td>427</td>\n",
       "      <td>34</td>\n",
       "      <td>2014-01-01 08:42:10</td>\n",
       "      <td>1</td>\n",
       "      <td>16.75</td>\n",
       "    </tr>\n",
       "    <tr>\n",
       "      <th>483</th>\n",
       "      <td>237</td>\n",
       "      <td>34</td>\n",
       "      <td>2014-01-01 08:43:15</td>\n",
       "      <td>1</td>\n",
       "      <td>108.01</td>\n",
       "    </tr>\n",
       "    <tr>\n",
       "      <th>484</th>\n",
       "      <td>3</td>\n",
       "      <td>35</td>\n",
       "      <td>2014-01-01 08:44:20</td>\n",
       "      <td>3</td>\n",
       "      <td>62.49</td>\n",
       "    </tr>\n",
       "    <tr>\n",
       "      <th>485</th>\n",
       "      <td>6</td>\n",
       "      <td>35</td>\n",
       "      <td>2014-01-01 08:45:25</td>\n",
       "      <td>4</td>\n",
       "      <td>17.05</td>\n",
       "    </tr>\n",
       "    <tr>\n",
       "      <th>486</th>\n",
       "      <td>14</td>\n",
       "      <td>35</td>\n",
       "      <td>2014-01-01 08:46:30</td>\n",
       "      <td>1</td>\n",
       "      <td>51.20</td>\n",
       "    </tr>\n",
       "    <tr>\n",
       "      <th>487</th>\n",
       "      <td>435</td>\n",
       "      <td>35</td>\n",
       "      <td>2014-01-01 08:47:35</td>\n",
       "      <td>3</td>\n",
       "      <td>60.49</td>\n",
       "    </tr>\n",
       "    <tr>\n",
       "      <th>488</th>\n",
       "      <td>493</td>\n",
       "      <td>35</td>\n",
       "      <td>2014-01-01 08:48:40</td>\n",
       "      <td>5</td>\n",
       "      <td>132.94</td>\n",
       "    </tr>\n",
       "    <tr>\n",
       "      <th>489</th>\n",
       "      <td>374</td>\n",
       "      <td>35</td>\n",
       "      <td>2014-01-01 08:49:45</td>\n",
       "      <td>1</td>\n",
       "      <td>60.51</td>\n",
       "    </tr>\n",
       "    <tr>\n",
       "      <th>490</th>\n",
       "      <td>118</td>\n",
       "      <td>35</td>\n",
       "      <td>2014-01-01 08:50:50</td>\n",
       "      <td>1</td>\n",
       "      <td>108.50</td>\n",
       "    </tr>\n",
       "    <tr>\n",
       "      <th>491</th>\n",
       "      <td>338</td>\n",
       "      <td>35</td>\n",
       "      <td>2014-01-01 08:51:55</td>\n",
       "      <td>5</td>\n",
       "      <td>93.71</td>\n",
       "    </tr>\n",
       "    <tr>\n",
       "      <th>492</th>\n",
       "      <td>37</td>\n",
       "      <td>35</td>\n",
       "      <td>2014-01-01 08:53:00</td>\n",
       "      <td>5</td>\n",
       "      <td>62.79</td>\n",
       "    </tr>\n",
       "    <tr>\n",
       "      <th>493</th>\n",
       "      <td>331</td>\n",
       "      <td>35</td>\n",
       "      <td>2014-01-01 08:54:05</td>\n",
       "      <td>1</td>\n",
       "      <td>17.58</td>\n",
       "    </tr>\n",
       "    <tr>\n",
       "      <th>494</th>\n",
       "      <td>311</td>\n",
       "      <td>35</td>\n",
       "      <td>2014-01-01 08:55:10</td>\n",
       "      <td>5</td>\n",
       "      <td>24.01</td>\n",
       "    </tr>\n",
       "    <tr>\n",
       "      <th>495</th>\n",
       "      <td>112</td>\n",
       "      <td>35</td>\n",
       "      <td>2014-01-01 08:56:15</td>\n",
       "      <td>5</td>\n",
       "      <td>55.42</td>\n",
       "    </tr>\n",
       "    <tr>\n",
       "      <th>496</th>\n",
       "      <td>111</td>\n",
       "      <td>35</td>\n",
       "      <td>2014-01-01 08:57:20</td>\n",
       "      <td>3</td>\n",
       "      <td>34.87</td>\n",
       "    </tr>\n",
       "    <tr>\n",
       "      <th>497</th>\n",
       "      <td>276</td>\n",
       "      <td>35</td>\n",
       "      <td>2014-01-01 08:58:25</td>\n",
       "      <td>1</td>\n",
       "      <td>10.94</td>\n",
       "    </tr>\n",
       "    <tr>\n",
       "      <th>498</th>\n",
       "      <td>266</td>\n",
       "      <td>35</td>\n",
       "      <td>2014-01-01 08:59:30</td>\n",
       "      <td>5</td>\n",
       "      <td>19.86</td>\n",
       "    </tr>\n",
       "    <tr>\n",
       "      <th>499</th>\n",
       "      <td>203</td>\n",
       "      <td>35</td>\n",
       "      <td>2014-01-01 09:00:35</td>\n",
       "      <td>3</td>\n",
       "      <td>148.31</td>\n",
       "    </tr>\n",
       "  </tbody>\n",
       "</table>\n",
       "<p>500 rows × 5 columns</p>\n",
       "</div>"
      ],
      "text/plain": [
       "     transaction_id  session_id    transaction_time product_id  amount\n",
       "0               298           1 2014-01-01 00:00:00          5  127.64\n",
       "1                 2           1 2014-01-01 00:01:05          2  109.48\n",
       "2               308           1 2014-01-01 00:02:10          3   95.06\n",
       "3               116           1 2014-01-01 00:03:15          4   78.92\n",
       "4               371           1 2014-01-01 00:04:20          3   31.54\n",
       "5               486           1 2014-01-01 00:05:25          3   23.76\n",
       "6               271           1 2014-01-01 00:06:30          3   43.63\n",
       "7               192           1 2014-01-01 00:07:35          4   42.27\n",
       "8               341           1 2014-01-01 00:08:40          3   47.68\n",
       "9                10           1 2014-01-01 00:09:45          5   57.39\n",
       "10               29           1 2014-01-01 00:10:50          2   20.91\n",
       "11              158           1 2014-01-01 00:11:55          4  141.66\n",
       "12              245           1 2014-01-01 00:13:00          1  121.75\n",
       "13              495           1 2014-01-01 00:14:05          5   69.45\n",
       "14              438           1 2014-01-01 00:15:10          4   76.38\n",
       "15              175           1 2014-01-01 00:16:15          2  141.49\n",
       "16              353           2 2014-01-01 00:17:20          4   42.99\n",
       "17              270           2 2014-01-01 00:18:25          5  123.53\n",
       "18              453           2 2014-01-01 00:19:30          5    9.32\n",
       "19              370           2 2014-01-01 00:20:35          1  106.99\n",
       "20               22           2 2014-01-01 00:21:40          3  116.02\n",
       "21              250           2 2014-01-01 00:22:45          2   60.09\n",
       "22               74           2 2014-01-01 00:23:50          5   90.69\n",
       "23              207           2 2014-01-01 00:24:55          5   48.27\n",
       "24              399           2 2014-01-01 00:26:00          2  135.25\n",
       "25              122           2 2014-01-01 00:27:05          5   13.81\n",
       "26              496           3 2014-01-01 00:28:10          1  137.82\n",
       "27              459           3 2014-01-01 00:29:15          1   23.20\n",
       "28              134           3 2014-01-01 00:30:20          3  120.08\n",
       "29              384           3 2014-01-01 00:31:25          4   26.16\n",
       "..              ...         ...                 ...        ...     ...\n",
       "470             497          34 2014-01-01 08:29:10          5  148.86\n",
       "471             430          34 2014-01-01 08:30:15          4   34.68\n",
       "472             500          34 2014-01-01 08:31:20          2  129.35\n",
       "473             467          34 2014-01-01 08:32:25          5  145.19\n",
       "474             425          34 2014-01-01 08:33:30          3   70.38\n",
       "475             361          34 2014-01-01 08:34:35          3   71.63\n",
       "476             469          34 2014-01-01 08:35:40          3   14.48\n",
       "477             284          34 2014-01-01 08:36:45          1   30.04\n",
       "478             277          34 2014-01-01 08:37:50          4  128.34\n",
       "479             267          34 2014-01-01 08:38:55          5   58.47\n",
       "480             319          34 2014-01-01 08:40:00          4  128.23\n",
       "481             241          34 2014-01-01 08:41:05          4   27.57\n",
       "482             427          34 2014-01-01 08:42:10          1   16.75\n",
       "483             237          34 2014-01-01 08:43:15          1  108.01\n",
       "484               3          35 2014-01-01 08:44:20          3   62.49\n",
       "485               6          35 2014-01-01 08:45:25          4   17.05\n",
       "486              14          35 2014-01-01 08:46:30          1   51.20\n",
       "487             435          35 2014-01-01 08:47:35          3   60.49\n",
       "488             493          35 2014-01-01 08:48:40          5  132.94\n",
       "489             374          35 2014-01-01 08:49:45          1   60.51\n",
       "490             118          35 2014-01-01 08:50:50          1  108.50\n",
       "491             338          35 2014-01-01 08:51:55          5   93.71\n",
       "492              37          35 2014-01-01 08:53:00          5   62.79\n",
       "493             331          35 2014-01-01 08:54:05          1   17.58\n",
       "494             311          35 2014-01-01 08:55:10          5   24.01\n",
       "495             112          35 2014-01-01 08:56:15          5   55.42\n",
       "496             111          35 2014-01-01 08:57:20          3   34.87\n",
       "497             276          35 2014-01-01 08:58:25          1   10.94\n",
       "498             266          35 2014-01-01 08:59:30          5   19.86\n",
       "499             203          35 2014-01-01 09:00:35          3  148.31\n",
       "\n",
       "[500 rows x 5 columns]"
      ]
     },
     "execution_count": 204,
     "metadata": {},
     "output_type": "execute_result"
    }
   ],
   "source": [
    "transactions_df"
   ]
  },
  {
   "cell_type": "code",
   "execution_count": 46,
   "metadata": {},
   "outputs": [
    {
     "data": {
      "text/plain": [
       "NaN      352271\n",
       " 0.0      19824\n",
       " 1.0      18330\n",
       " 2.0      17028\n",
       " 4.0      13067\n",
       " 3.0      12808\n",
       " 5.0      12004\n",
       " 6.0       9843\n",
       " 7.0       9340\n",
       " 8.0       7731\n",
       " 9.0       7728\n",
       " 10.0      6288\n",
       "Name: dist1, dtype: int64"
      ]
     },
     "execution_count": 46,
     "metadata": {},
     "output_type": "execute_result"
    }
   ],
   "source": [
    "train['dist1'].value_counts(dropna=False)[:10]"
   ]
  },
  {
   "cell_type": "code",
   "execution_count": 47,
   "metadata": {},
   "outputs": [
    {
     "data": {
      "image/png": "[encoded data removed]",
      "text/plain": [
       "<Figure size 432x288 with 1 Axes>"
      ]
     },
     "metadata": {
      "needs_background": "light"
     },
     "output_type": "display_data"
    }
   ],
   "source": [
    "plt.hist(train['dist2']);\n",
    "plt.title('Distribution of addr1 variable');"
   ]
  },
  {
   "cell_type": "code",
   "execution_count": 48,
   "metadata": {},
   "outputs": [
    {
     "data": {
      "text/plain": [
       "NaN       552913\n",
       " 7.0        5687\n",
       " 0.0        3519\n",
       " 1.0        1374\n",
       " 9.0         742\n",
       " 4.0         659\n",
       " 2.0         556\n",
       " 3.0         490\n",
       " 68.0        485\n",
       " 6.0         412\n",
       " 13.0        397\n",
       " 199.0       362\n",
       " 10.0        356\n",
       "Name: dist2, dtype: int64"
      ]
     },
     "execution_count": 48,
     "metadata": {},
     "output_type": "execute_result"
    }
   ],
   "source": [
    "train['dist2'].value_counts(dropna=False)[:10]"
   ]
  },
  {
   "cell_type": "code",
   "execution_count": null,
   "metadata": {},
   "outputs": [],
   "source": [
    "##dist1 dist2 代表什么呢"
   ]
  },
  {
   "cell_type": "code",
   "execution_count": 78,
   "metadata": {},
   "outputs": [
    {
     "data": {
      "text/plain": [
       "match_status:2     60011\n",
       "match_status:1     17376\n",
       "match_status:0       415\n",
       "match_status:-1        3\n",
       "Name: id_34, dtype: int64"
      ]
     },
     "execution_count": 78,
     "metadata": {},
     "output_type": "execute_result"
    }
   ],
   "source": [
    "train['id_34'].value_counts()"
   ]
  },
  {
   "cell_type": "code",
   "execution_count": 189,
   "metadata": {},
   "outputs": [
    {
     "data": {
      "text/plain": [
       "1.0    504886\n",
       "2.0      1566\n",
       "3.0       180\n",
       "4.0        38\n",
       "5.0        11\n",
       "6.0         3\n",
       "0.0         3\n",
       "7.0         2\n",
       "8.0         2\n",
       "Name: V111, dtype: int64"
      ]
     },
     "execution_count": 189,
     "metadata": {},
     "output_type": "execute_result"
    }
   ],
   "source": [
    "test['V111'].value_counts()"
   ]
  },
  {
   "cell_type": "code",
   "execution_count": 32,
   "metadata": {},
   "outputs": [],
   "source": [
    "#转化成时间格式\n",
    "startdate = datetime.datetime.strptime('2017-12-01', '%Y-%m-%d')\n",
    "train['TransactionDT'] = train['TransactionDT'].apply(lambda x: (startdate + datetime.timedelta(seconds = x)))\n",
    "test['TransactionDT'] = test['TransactionDT'].apply(lambda x: (startdate + datetime.timedelta(seconds = x)))"
   ]
  },
  {
   "cell_type": "code",
   "execution_count": 45,
   "metadata": {},
   "outputs": [
    {
     "data": {
      "image/png": "[encoded data removed]",
      "text/plain": [
       "<Figure size 1080x360 with 1 Axes>"
      ]
     },
     "metadata": {
      "needs_background": "light"
     },
     "output_type": "display_data"
    }
   ],
   "source": [
    "train['TransactionAmt'] \\\n",
    "    .apply(np.log) \\\n",
    "    .plot(kind='hist',\n",
    "          bins=100,\n",
    "          figsize=(15, 5),\n",
    "          title='Distribution of Log Transaction Amt')\n",
    "plt.show()"
   ]
  },
  {
   "cell_type": "code",
   "execution_count": 50,
   "metadata": {},
   "outputs": [
    {
     "data": {
      "image/png": "[encoded data removed]",
      "text/plain": [
       "<Figure size 1080x432 with 4 Axes>"
      ]
     },
     "metadata": {
      "needs_background": "light"
     },
     "output_type": "display_data"
    }
   ],
   "source": [
    "fig, ((ax1, ax2), (ax3, ax4)) = plt.subplots(2, 2, figsize=(15, 6))\n",
    "train.loc[train['isFraud'] == 1] \\\n",
    "    ['TransactionAmt'].apply(np.log) \\\n",
    "    .plot(kind='hist',\n",
    "          bins=100,\n",
    "          title='Log Transaction Amt - Fraud',\n",
    "          color='r',\n",
    "          xlim=(-3, 10),\n",
    "         ax= ax1)\n",
    "train.loc[train['isFraud'] == 0] \\\n",
    "    ['TransactionAmt'].apply(np.log) \\\n",
    "    .plot(kind='hist',\n",
    "          bins=100,\n",
    "          title='Log Transaction Amt - Not Fraud',\n",
    "          color='b',\n",
    "          xlim=(-3, 10),\n",
    "         ax=ax2)\n",
    "train.loc[train['isFraud'] == 1] \\\n",
    "    ['TransactionAmt'] \\\n",
    "    .plot(kind='hist',\n",
    "          bins=100,\n",
    "          title='Transaction Amt - Fraud',\n",
    "          color='y',\n",
    "         ax= ax3)\n",
    "train.loc[train['isFraud'] == 0] \\\n",
    "    ['TransactionAmt'] \\\n",
    "    .plot(kind='hist',\n",
    "          bins=100,\n",
    "          title='Transaction Amt - Not Fraud',\n",
    "          color='b',\n",
    "         ax=ax4)\n",
    "plt.show()"
   ]
  },
  {
   "cell_type": "code",
   "execution_count": 207,
   "metadata": {},
   "outputs": [
    {
     "data": {
      "text/plain": [
       "7919     14932\n",
       "9500     14162\n",
       "15885    10361\n",
       "17188    10344\n",
       "15066     7945\n",
       "12695     7091\n",
       "12544     6773\n",
       "6019      6771\n",
       "2803      6141\n",
       "7585      5334\n",
       "10616     5172\n",
       "12839     5129\n",
       "3154      4614\n",
       "2616      4410\n",
       "18132     4209\n",
       "9633      4158\n",
       "15497     3977\n",
       "16132     3929\n",
       "2884      3873\n",
       "16075     3748\n",
       "Name: card1, dtype: int64"
      ]
     },
     "execution_count": 207,
     "metadata": {},
     "output_type": "execute_result"
    }
   ],
   "source": [
    "#计算card1 woe值\n",
    "train[\"card1\"].value_counts(dropna=False)[:20]"
   ]
  },
  {
   "cell_type": "code",
   "execution_count": 209,
   "metadata": {},
   "outputs": [],
   "source": [
    "aa = train[['isFraud','card1']]"
   ]
  },
  {
   "cell_type": "code",
   "execution_count": 213,
   "metadata": {},
   "outputs": [],
   "source": [
    "from sklearn.linear_model import LogisticRegression\n",
    "import pandas as pd\n",
    "import numpy as np"
   ]
  },
  {
   "cell_type": "code",
   "execution_count": 285,
   "metadata": {},
   "outputs": [],
   "source": [
    "table = pd.crosstab(train['isFraud'],train['card1'])\n",
    "#相当于对card1的值进行分箱了 每个箱子中好坏的个数"
   ]
  },
  {
   "cell_type": "code",
   "execution_count": 287,
   "metadata": {},
   "outputs": [],
   "source": [
    "#计算比率\n",
    "ratio_table = table.div(table.sum(axis=1),axis=0)"
   ]
  },
  {
   "cell_type": "code",
   "execution_count": 288,
   "metadata": {},
   "outputs": [],
   "source": [
    "woe_table = table.div(table.sum(axis=1),axis=0)"
   ]
  },
  {
   "cell_type": "code",
   "execution_count": 291,
   "metadata": {},
   "outputs": [
    {
     "data": {
      "text/html": [
       "<div>\n",
       "<style scoped>\n",
       "    .dataframe tbody tr th:only-of-type {\n",
       "        vertical-align: middle;\n",
       "    }\n",
       "\n",
       "    .dataframe tbody tr th {\n",
       "        vertical-align: top;\n",
       "    }\n",
       "\n",
       "    .dataframe thead th {\n",
       "        text-align: right;\n",
       "    }\n",
       "</style>\n",
       "<table border=\"1\" class=\"dataframe\">\n",
       "  <thead>\n",
       "    <tr style=\"text-align: right;\">\n",
       "      <th>card1</th>\n",
       "      <th>1000</th>\n",
       "      <th>1001</th>\n",
       "      <th>1004</th>\n",
       "      <th>1005</th>\n",
       "      <th>1006</th>\n",
       "      <th>1007</th>\n",
       "      <th>1008</th>\n",
       "      <th>1009</th>\n",
       "      <th>1010</th>\n",
       "      <th>1011</th>\n",
       "      <th>...</th>\n",
       "      <th>18383</th>\n",
       "      <th>18384</th>\n",
       "      <th>18385</th>\n",
       "      <th>18387</th>\n",
       "      <th>18388</th>\n",
       "      <th>18390</th>\n",
       "      <th>18391</th>\n",
       "      <th>18393</th>\n",
       "      <th>18395</th>\n",
       "      <th>18396</th>\n",
       "    </tr>\n",
       "    <tr>\n",
       "      <th>isFraud</th>\n",
       "      <th></th>\n",
       "      <th></th>\n",
       "      <th></th>\n",
       "      <th></th>\n",
       "      <th></th>\n",
       "      <th></th>\n",
       "      <th></th>\n",
       "      <th></th>\n",
       "      <th></th>\n",
       "      <th></th>\n",
       "      <th></th>\n",
       "      <th></th>\n",
       "      <th></th>\n",
       "      <th></th>\n",
       "      <th></th>\n",
       "      <th></th>\n",
       "      <th></th>\n",
       "      <th></th>\n",
       "      <th></th>\n",
       "      <th></th>\n",
       "      <th></th>\n",
       "    </tr>\n",
       "  </thead>\n",
       "  <tbody>\n",
       "    <tr>\n",
       "      <th>0</th>\n",
       "      <td>0.000002</td>\n",
       "      <td>0.000005</td>\n",
       "      <td>0.000009</td>\n",
       "      <td>0.000002</td>\n",
       "      <td>0.000005</td>\n",
       "      <td>0.000004</td>\n",
       "      <td>0.000005</td>\n",
       "      <td>0.000009</td>\n",
       "      <td>0.000002</td>\n",
       "      <td>0.000004</td>\n",
       "      <td>...</td>\n",
       "      <td>0.000012</td>\n",
       "      <td>0.000018</td>\n",
       "      <td>0.00007</td>\n",
       "      <td>0.000011</td>\n",
       "      <td>0.000002</td>\n",
       "      <td>0.000112</td>\n",
       "      <td>0.000002</td>\n",
       "      <td>0.000005</td>\n",
       "      <td>0.000019</td>\n",
       "      <td>0.000002</td>\n",
       "    </tr>\n",
       "    <tr>\n",
       "      <th>1</th>\n",
       "      <td>0.000000</td>\n",
       "      <td>0.000000</td>\n",
       "      <td>0.000000</td>\n",
       "      <td>0.000000</td>\n",
       "      <td>0.000000</td>\n",
       "      <td>0.000000</td>\n",
       "      <td>0.000000</td>\n",
       "      <td>0.000000</td>\n",
       "      <td>0.000000</td>\n",
       "      <td>0.000000</td>\n",
       "      <td>...</td>\n",
       "      <td>0.000000</td>\n",
       "      <td>0.000000</td>\n",
       "      <td>0.00000</td>\n",
       "      <td>0.000000</td>\n",
       "      <td>0.000000</td>\n",
       "      <td>0.000000</td>\n",
       "      <td>0.000000</td>\n",
       "      <td>0.000000</td>\n",
       "      <td>0.000000</td>\n",
       "      <td>0.000000</td>\n",
       "    </tr>\n",
       "  </tbody>\n",
       "</table>\n",
       "<p>2 rows × 13553 columns</p>\n",
       "</div>"
      ],
      "text/plain": [
       "card1       1000      1001      1004      1005      1006      1007      1008   \\\n",
       "isFraud                                                                         \n",
       "0        0.000002  0.000005  0.000009  0.000002  0.000005  0.000004  0.000005   \n",
       "1        0.000000  0.000000  0.000000  0.000000  0.000000  0.000000  0.000000   \n",
       "\n",
       "card1       1009      1010      1011     ...        18383     18384    18385  \\\n",
       "isFraud                                  ...                                   \n",
       "0        0.000009  0.000002  0.000004    ...     0.000012  0.000018  0.00007   \n",
       "1        0.000000  0.000000  0.000000    ...     0.000000  0.000000  0.00000   \n",
       "\n",
       "card1       18387     18388     18390     18391     18393     18395     18396  \n",
       "isFraud                                                                        \n",
       "0        0.000011  0.000002  0.000112  0.000002  0.000005  0.000019  0.000002  \n",
       "1        0.000000  0.000000  0.000000  0.000000  0.000000  0.000000  0.000000  \n",
       "\n",
       "[2 rows x 13553 columns]"
      ]
     },
     "execution_count": 291,
     "metadata": {},
     "output_type": "execute_result"
    }
   ],
   "source": [
    "woe_table"
   ]
  },
  {
   "cell_type": "code",
   "execution_count": 282,
   "metadata": {},
   "outputs": [],
   "source": [
    "#woe=ratio_table.iloc[1,:]/ratio_table.iloc[0,:]"
   ]
  },
  {
   "cell_type": "code",
   "execution_count": 294,
   "metadata": {},
   "outputs": [],
   "source": [
    "#计算各个分箱的woe值\n",
    "woe=(woe_table.iloc[1,:]/woe_table.iloc[0,:]).apply(lambda x:np.log(x))"
   ]
  }
 ],
 "metadata": {
  "kernelspec": {
   "display_name": "Python 3",
   "language": "python",
   "name": "python3"
  },
  "language_info": {
   "codemirror_mode": {
    "name": "ipython",
    "version": 3
   },
   "file_extension": ".py",
   "mimetype": "text/x-python",
   "name": "python",
   "nbconvert_exporter": "python",
   "pygments_lexer": "ipython3",
   "version": "3.5.2"
  }
 },
 "nbformat": 4,
 "nbformat_minor": 2
}
