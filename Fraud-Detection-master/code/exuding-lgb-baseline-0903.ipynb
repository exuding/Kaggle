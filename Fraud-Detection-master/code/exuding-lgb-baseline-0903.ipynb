{
 "cells": [
  {
   "cell_type": "code",
   "execution_count": 73,
   "metadata": {},
   "outputs": [],
   "source": [
    "import pandas as pd\n",
    "import numpy as np\n",
    "import matplotlib.pyplot as plt\n",
    "import seaborn as sns\n",
    "import os\n",
    "from time import time\n",
    "from tqdm import tqdm_notebook\n",
    "import datetime\n",
    "import gc\n",
    "from itertools import cycle, islice\n",
    "import lightgbm as lgb\n",
    "from sklearn.metrics import roc_auc_score\n",
    "from sklearn.model_selection import KFold, TimeSeriesSplit\n",
    "import multiprocessing\n",
    "import warnings\n",
    "import datetime\n",
    "from sklearn.preprocessing import LabelEncoder"
   ]
  },
  {
   "cell_type": "code",
   "execution_count": 74,
   "metadata": {},
   "outputs": [],
   "source": [
    "sns.set()\n",
    "%matplotlib inline"
   ]
  },
  {
   "cell_type": "code",
   "execution_count": 75,
   "metadata": {},
   "outputs": [],
   "source": [
    "warnings.simplefilter('ignore')\n",
    "files = ['./input/test_identity.csv', \n",
    "         './input/test_transaction.csv',\n",
    "         './input/train_identity.csv',\n",
    "         './input/train_transaction.csv',\n",
    "         './input/sample_submission.csv']"
   ]
  },
  {
   "cell_type": "code",
   "execution_count": 76,
   "metadata": {},
   "outputs": [],
   "source": [
    "#可以对数据进行压缩，从而减少内存消耗\n",
    "def reduce_mem_usage(df, verbose=True):\n",
    "    numerics = ['int16', 'int32', 'int64', 'float16', 'float32', 'float64']\n",
    "    start_mem = df.memory_usage().sum() / 1024**2\n",
    "    for col in df.columns:\n",
    "        col_type = df[col].dtypes\n",
    "        if col_type in numerics:\n",
    "            c_min = df[col].min()\n",
    "            c_max = df[col].max()\n",
    "            if str(col_type)[:3] == 'int':\n",
    "                if c_min > np.iinfo(np.int8).min and c_max < np.iinfo(np.int8).max:\n",
    "                    df[col] = df[col].astype(np.int8)\n",
    "                elif c_min > np.iinfo(np.int16).min and c_max < np.iinfo(np.int16).max:\n",
    "                    df[col] = df[col].astype(np.int16)\n",
    "                elif c_min > np.iinfo(np.int32).min and c_max < np.iinfo(np.int32).max:\n",
    "                    df[col] = df[col].astype(np.int32)\n",
    "                elif c_min > np.iinfo(np.int64).min and c_max < np.iinfo(np.int64).max:\n",
    "                    df[col] = df[col].astype(np.int64)\n",
    "            else:\n",
    "                if c_min > np.finfo(np.float16).min and c_max < np.finfo(np.float16).max:\n",
    "                    df[col] = df[col].astype(np.float16)\n",
    "                elif c_min > np.finfo(np.float32).min and c_max < np.finfo(np.float32).max:\n",
    "                    df[col] = df[col].astype(np.float32)\n",
    "                else:\n",
    "                    df[col] = df[col].astype(np.float64)\n",
    "    end_mem = df.memory_usage().sum() / 1024**2\n",
    "    if verbose: print('Mem. usage decreased to {:5.2f} Mb ({:.1f}% reduction)'.format(end_mem, 100 * (start_mem - end_mem) / start_mem))\n",
    "    return df\n",
    "\n",
    "def load_data(file):\n",
    "    return reduce_mem_usage(pd.read_csv(file))"
   ]
  },
  {
   "cell_type": "code",
   "execution_count": 198,
   "metadata": {},
   "outputs": [
    {
     "name": "stdout",
     "output_type": "stream",
     "text": [
      "Mem. usage decreased to  2.90 Mb (62.5% reduction)\n",
      "Mem. usage decreased to 25.44 Mb (42.7% reduction)\n",
      "Mem. usage decreased to 25.86 Mb (42.7% reduction)\n",
      "Mem. usage decreased to 472.59 Mb (68.9% reduction)\n",
      "Mem. usage decreased to 542.35 Mb (69.4% reduction)\n",
      "CPU times: user 1.36 s, sys: 2.34 s, total: 3.7 s\n",
      "Wall time: 2min 37s\n"
     ]
    }
   ],
   "source": [
    "%%time\n",
    "# 线程池读取多个数据集\n",
    "with multiprocessing.Pool() as pool:\n",
    "    test_identity, test_transaction, train_identity, train_transaction, sample_submission = pool.map(load_data,files)"
   ]
  },
  {
   "cell_type": "code",
   "execution_count": 90,
   "metadata": {},
   "outputs": [
    {
     "name": "stdout",
     "output_type": "stream",
     "text": [
      "% of train_transaction data missing =  41.073431200111266\n",
      "% of train_identity data missing =  35.58109650830896\n",
      "% of test_transaction data missing =  36.90570194240822\n",
      "% of test_identity data missing =  36.18627245910109\n"
     ]
    }
   ],
   "source": [
    "#各个数据集缺失情况\n",
    "print (\"% of train_transaction data missing = \",(train_transaction[train_transaction.columns].isnull().sum().sum()/np.product(train_transaction.shape)) * 100)\n",
    "print (\"% of train_identity data missing = \",(train_identity[train_identity.columns].isnull().sum().sum()/np.product(train_identity.shape)) * 100)\n",
    "print (\"% of test_transaction data missing = \",(test_transaction[test_transaction.columns].isnull().sum().sum()/np.product(test_transaction.shape)) * 100)\n",
    "print (\"% of test_identity data missing = \",(test_identity[test_identity.columns].isnull().sum().sum()/np.product(test_identity.shape)) * 100)"
   ]
  },
  {
   "cell_type": "code",
   "execution_count": 199,
   "metadata": {},
   "outputs": [],
   "source": [
    "#现对train-test-identy处理设备特征\n",
    "def id_split(dataframe):\n",
    "    dataframe['device_name'] = dataframe['DeviceInfo'].str.split('/', expand=True)[0]\n",
    "    dataframe['device_version'] = dataframe['DeviceInfo'].str.split('/', expand=True)[1]\n",
    "    \n",
    "    dataframe['OS_id_30'] = dataframe['id_30'].str.split(' ', expand=True)[0]\n",
    "    dataframe['version_id_30'] = dataframe['id_30'].str.split(' ', expand=True)[1]\n",
    "\n",
    "    dataframe['browser_id_31'] = dataframe['id_31'].str.split(' ', expand=True)[0]\n",
    "    dataframe['version_id_31'] = dataframe['id_31'].str.split(' ', expand=True)[1]\n",
    "\n",
    "    dataframe['screen_width'] = dataframe['id_33'].str.split('x', expand=True)[0]\n",
    "    dataframe['screen_height'] = dataframe['id_33'].str.split('x', expand=True)[1]\n",
    "\n",
    "    dataframe['id_34'] = dataframe['id_34'].str.split(':', expand=True)[1]\n",
    "    dataframe['id_23'] = dataframe['id_23'].str.split(':', expand=True)[1]\n",
    "\n",
    "    dataframe.loc[dataframe['device_name'].str.contains('SM', na=False), 'device_name'] = 'Samsung'\n",
    "    dataframe.loc[dataframe['device_name'].str.contains('SAMSUNG', na=False), 'device_name'] = 'Samsung'\n",
    "    dataframe.loc[dataframe['device_name'].str.contains('GT-', na=False), 'device_name'] = 'Samsung'\n",
    "    dataframe.loc[dataframe['device_name'].str.contains('Moto G', na=False), 'device_name'] = 'Motorola'\n",
    "    dataframe.loc[dataframe['device_name'].str.contains('Moto', na=False), 'device_name'] = 'Motorola'\n",
    "    dataframe.loc[dataframe['device_name'].str.contains('moto', na=False), 'device_name'] = 'Motorola'\n",
    "    dataframe.loc[dataframe['device_name'].str.contains('LG-', na=False), 'device_name'] = 'LG'\n",
    "    dataframe.loc[dataframe['device_name'].str.contains('rv:', na=False), 'device_name'] = 'RV'\n",
    "    dataframe.loc[dataframe['device_name'].str.contains('HUAWEI', na=False), 'device_name'] = 'Huawei'\n",
    "    dataframe.loc[dataframe['device_name'].str.contains('ALE-', na=False), 'device_name'] = 'Huawei'\n",
    "    dataframe.loc[dataframe['device_name'].str.contains('-L', na=False), 'device_name'] = 'Huawei'\n",
    "    dataframe.loc[dataframe['device_name'].str.contains('Blade', na=False), 'device_name'] = 'ZTE'\n",
    "    dataframe.loc[dataframe['device_name'].str.contains('BLADE', na=False), 'device_name'] = 'ZTE'\n",
    "    dataframe.loc[dataframe['device_name'].str.contains('Linux', na=False), 'device_name'] = 'Linux'\n",
    "    dataframe.loc[dataframe['device_name'].str.contains('XT', na=False), 'device_name'] = 'Sony'\n",
    "    dataframe.loc[dataframe['device_name'].str.contains('HTC', na=False), 'device_name'] = 'HTC'\n",
    "    dataframe.loc[dataframe['device_name'].str.contains('ASUS', na=False), 'device_name'] = 'Asus'\n",
    "\n",
    "    dataframe.loc[dataframe.device_name.isin(dataframe.device_name.value_counts()[dataframe.device_name.value_counts() < 200].index), 'device_name'] = \"Others\"\n",
    "    dataframe['had_id'] = 1\n",
    "    gc.collect()\n",
    "    \n",
    "    return dataframe"
   ]
  },
  {
   "cell_type": "code",
   "execution_count": 200,
   "metadata": {},
   "outputs": [],
   "source": [
    "train_identity = id_split(train_identity)\n",
    "test_identity = id_split(test_identity)"
   ]
  },
  {
   "cell_type": "code",
   "execution_count": 201,
   "metadata": {},
   "outputs": [
    {
     "data": {
      "text/plain": [
       "42"
      ]
     },
     "execution_count": 201,
     "metadata": {},
     "output_type": "execute_result"
    }
   ],
   "source": [
    "#合并数据\n",
    "train = pd.merge(train_transaction, train_identity, on='TransactionID', how='left')\n",
    "test = pd.merge(test_transaction, test_identity, on='TransactionID', how='left')\n",
    "del test_identity, test_transaction, train_identity, train_transaction\n",
    "#垃圾回收机制\n",
    "gc.collect()"
   ]
  },
  {
   "cell_type": "code",
   "execution_count": 202,
   "metadata": {},
   "outputs": [
    {
     "data": {
      "image/png": "[encoded data removed]",
      "text/plain": [
       "<Figure size 432x288 with 1 Axes>"
      ]
     },
     "metadata": {
      "needs_background": "light"
     },
     "output_type": "display_data"
    },
    {
     "data": {
      "image/png": "[encoded data removed]",
      "text/plain": [
       "<Figure size 576x576 with 1 Axes>"
      ]
     },
     "metadata": {
      "needs_background": "light"
     },
     "output_type": "display_data"
    }
   ],
   "source": [
    "# 查看分布\n",
    "train[\"DeviceType\"].value_counts(dropna=False).plot.bar()\n",
    "plt.show()\n",
    "plt.figure(figsize=(8, 8))\n",
    "sns.barplot(train[\"DeviceInfo\"].value_counts(dropna=False)[:15],\n",
    "            train[\"DeviceInfo\"].value_counts(dropna=False).keys()[:15])\n",
    "plt.show()"
   ]
  },
  {
   "cell_type": "code",
   "execution_count": 203,
   "metadata": {},
   "outputs": [
    {
     "data": {
      "image/png": "[encoded data removed]",
      "text/plain": [
       "<Figure size 432x288 with 1 Axes>"
      ]
     },
     "metadata": {
      "needs_background": "light"
     },
     "output_type": "display_data"
    }
   ],
   "source": [
    "train[\"DeviceType\"].value_counts(dropna=False).plot.bar()\n",
    "plt.show()"
   ]
  },
  {
   "cell_type": "code",
   "execution_count": 204,
   "metadata": {},
   "outputs": [],
   "source": [
    "#转化成时间格式\n",
    "startdate = datetime.datetime.strptime('2017-12-01', '%Y-%m-%d')\n",
    "\n",
    "train['TransactionDT'] = train['TransactionDT'].apply(lambda x: (startdate + datetime.timedelta(seconds = x)))\n",
    "test['TransactionDT'] = test['TransactionDT'].apply(lambda x: (startdate + datetime.timedelta(seconds = x)))\n",
    "#处理TransactionDT特征 生成衍生变量  ***一天中的时间对欺诈比较有用？  以2019.01.01 0:0:0开始？\n",
    "train['DT_M'] = (train['TransactionDT'].dt.year-2017)*12 + train['TransactionDT'].dt.month\n",
    "train['DT_W'] = (train['TransactionDT'].dt.year-2017)*52 + train['TransactionDT'].dt.weekofyear\n",
    "train['DT_D'] = (train['TransactionDT'].dt.year-2017)*365 + train['TransactionDT'].dt.dayofyear\n",
    "train['DT_hour'] = train['TransactionDT'].dt.hour\n",
    "train['DT_day_week'] = train['TransactionDT'].dt.dayofweek\n",
    "train['DT_day'] = train['TransactionDT'].dt.day\n",
    "\n",
    "test['DT_M'] = (test['TransactionDT'].dt.year-2017)*12 + test['TransactionDT'].dt.month\n",
    "test['DT_W'] = (test['TransactionDT'].dt.year-2017)*52 + test['TransactionDT'].dt.weekofyear\n",
    "test['DT_D'] = (test['TransactionDT'].dt.year-2017)*365 + test['TransactionDT'].dt.dayofyear\n",
    "test['DT_hour'] = test['TransactionDT'].dt.hour\n",
    "test['DT_day_week'] = test['TransactionDT'].dt.dayofweek\n",
    "test['DT_day'] = test['TransactionDT'].dt.day"
   ]
  },
  {
   "cell_type": "code",
   "execution_count": 205,
   "metadata": {},
   "outputs": [
    {
     "name": "stdout",
     "output_type": "stream",
     "text": [
      "email_process_done\n"
     ]
    }
   ],
   "source": [
    "# 邮箱处理\n",
    "train['is_proton_mail'] = (train['P_emaildomain'] == 'protonmail.com') | (train['R_emaildomain'] == 'protonmail.com')\n",
    "test['is_proton_mail'] = (test['P_emaildomain'] == 'protonmail.com') | (test['R_emaildomain'] == 'protonmail.com')\n",
    "train['is_mail'] = (train['P_emaildomain'] == 'mail.com') | (train['R_emaildomain'] == 'mail.com')\n",
    "test['is_mail'] = (test['P_emaildomain'] == 'mail.com') | (test['R_emaildomain'] == 'mail.com')\n",
    "\n",
    "emails = {'gmail': 'google', 'att.net': 'att', 'twc.com': 'spectrum', 'scranton.edu': 'other',\n",
    "          'optonline.net': 'other',\n",
    "          'hotmail.co.uk': 'microsoft', 'comcast.net': 'other', 'yahoo.com.mx': 'yahoo', 'yahoo.fr': 'yahoo',\n",
    "          'yahoo.es': 'yahoo', 'charter.net': 'spectrum', 'live.com': 'microsoft', 'aim.com': 'aol',\n",
    "          'hotmail.de': 'microsoft',\n",
    "          'centurylink.net': 'centurylink', 'gmail.com': 'google', 'me.com': 'apple', 'earthlink.net': 'other',\n",
    "          'gmx.de': 'other', 'web.de': 'other', 'cfl.rr.com': 'other', 'hotmail.com': 'microsoft',\n",
    "          'protonmail.com': 'other',\n",
    "          'hotmail.fr': 'microsoft', 'windstream.net': 'other', 'outlook.es': 'microsoft', 'yahoo.co.jp': 'yahoo',\n",
    "          'yahoo.de': 'yahoo', 'servicios-ta.com': 'other', 'netzero.net': 'other', 'suddenlink.net': 'other',\n",
    "          'roadrunner.com': 'other', 'sc.rr.com': 'other', 'live.fr': 'microsoft', 'verizon.net': 'yahoo',\n",
    "          'msn.com': 'microsoft', 'q.com': 'centurylink', 'prodigy.net.mx': 'att', 'frontier.com': 'yahoo',\n",
    "          'anonymous.com': 'other', 'rocketmail.com': 'yahoo', 'sbcglobal.net': 'att', 'frontiernet.net': 'yahoo',\n",
    "          'ymail.com': 'yahoo', 'outlook.com': 'microsoft', 'mail.com': 'other', 'bellsouth.net': 'other',\n",
    "          'embarqmail.com': 'centurylink', 'cableone.net': 'other', 'hotmail.es': 'microsoft', 'mac.com': 'apple',\n",
    "          'yahoo.co.uk': 'yahoo', 'netzero.com': 'other', 'yahoo.com': 'yahoo', 'live.com.mx': 'microsoft',\n",
    "          'ptd.net': 'other',\n",
    "          'cox.net': 'other', 'aol.com': 'aol', 'juno.com': 'other', 'icloud.com': 'apple'}\n",
    "us_emails = ['gmail', 'net', 'edu']\n",
    "for c in ['P_emaildomain', 'R_emaildomain']:\n",
    "    # 公司 google\n",
    "    train[c + '_bin'] = train[c].map(emails)\n",
    "    test[c + '_bin'] = test[c].map(emails)\n",
    "    # 组织 com\n",
    "    train[c + '_suffix'] = train[c].map(lambda x: str(x).split('.')[-1])\n",
    "    test[c + '_suffix'] = test[c].map(lambda x: str(x).split('.')[-1])\n",
    "\n",
    "    train[c + '_suffix'] = train[c + '_suffix'].map(lambda x: x if str(x) not in us_emails else 'us')\n",
    "    test[c + '_suffix'] = test[c + '_suffix'].map(lambda x: x if str(x) not in us_emails else 'us')\n",
    "print('email_process_done')"
   ]
  },
  {
   "cell_type": "code",
   "execution_count": 206,
   "metadata": {},
   "outputs": [],
   "source": [
    "a = np.zeros(train.shape[0])\n",
    "train[\"lastest_browser\"] = a\n",
    "a = np.zeros(test.shape[0])\n",
    "test[\"lastest_browser\"] = a\n",
    "def setbrowser(df):\n",
    "    df.loc[df[\"id_31\"]==\"samsung browser 7.0\",'lastest_browser']=1\n",
    "    df.loc[df[\"id_31\"]==\"opera 53.0\",'lastest_browser']=1\n",
    "    df.loc[df[\"id_31\"]==\"mobile safari 10.0\",'lastest_browser']=1\n",
    "    df.loc[df[\"id_31\"]==\"google search application 49.0\",'lastest_browser']=1\n",
    "    df.loc[df[\"id_31\"]==\"firefox 60.0\",'lastest_browser']=1\n",
    "    df.loc[df[\"id_31\"]==\"edge 17.0\",'lastest_browser']=1\n",
    "    df.loc[df[\"id_31\"]==\"chrome 69.0\",'lastest_browser']=1\n",
    "    df.loc[df[\"id_31\"]==\"chrome 67.0 for android\",'lastest_browser']=1\n",
    "    df.loc[df[\"id_31\"]==\"chrome 63.0 for android\",'lastest_browser']=1\n",
    "    df.loc[df[\"id_31\"]==\"chrome 63.0 for ios\",'lastest_browser']=1\n",
    "    df.loc[df[\"id_31\"]==\"chrome 64.0\",'lastest_browser']=1\n",
    "    df.loc[df[\"id_31\"]==\"chrome 64.0 for android\",'lastest_browser']=1\n",
    "    df.loc[df[\"id_31\"]==\"chrome 64.0 for ios\",'lastest_browser']=1\n",
    "    df.loc[df[\"id_31\"]==\"chrome 65.0\",'lastest_browser']=1\n",
    "    df.loc[df[\"id_31\"]==\"chrome 65.0 for android\",'lastest_browser']=1\n",
    "    df.loc[df[\"id_31\"]==\"chrome 65.0 for ios\",'lastest_browser']=1\n",
    "    df.loc[df[\"id_31\"]==\"chrome 66.0\",'lastest_browser']=1\n",
    "    df.loc[df[\"id_31\"]==\"chrome 66.0 for android\",'lastest_browser']=1\n",
    "    df.loc[df[\"id_31\"]==\"chrome 66.0 for ios\",'lastest_browser']=1\n",
    "    return df\n",
    "train=setbrowser(train)\n",
    "test=setbrowser(test)"
   ]
  },
  {
   "cell_type": "code",
   "execution_count": 207,
   "metadata": {},
   "outputs": [
    {
     "name": "stdout",
     "output_type": "stream",
     "text": [
      "177\n"
     ]
    }
   ],
   "source": [
    "#特征工程\n",
    "#第一步删除两个数据集中超过0.9的空值特征\n",
    "train_missing_values = train.isnull().sum().sort_values(ascending=False) / len(train)\n",
    "test_missing_values = test.isnull().sum().sort_values(ascending=False) / len(test)\n",
    "\n",
    "train_missing_values = [str(x) for x in train_missing_values[train_missing_values > 0.90].keys()]\n",
    "test_missing_values = [str(x) for x in test_missing_values[test_missing_values > 0.90].keys()]\n",
    "\n",
    "dropped_columns = train_missing_values + test_missing_values\n",
    "# 第二步删除特征分布不均匀的情况二  即特征值超过0.9都是同一个值     但是isFraud也属于这种情况要去除掉\n",
    "dropped_columns = dropped_columns + [col for col in train.columns if\n",
    "                                     train[col].value_counts(dropna=False, normalize=True).values[0] > 0.9]\n",
    "dropped_columns = dropped_columns + [col for col in test.columns if\n",
    "                                     test[col].value_counts(dropna=False, normalize=True).values[0] > 0.9]\n",
    "dropped_columns.remove('isFraud')\n",
    "# 删除不符合的特征\n",
    "train.drop(dropped_columns, axis=1, inplace=True)\n",
    "test.drop(dropped_columns, axis=1, inplace=True)\n",
    "print(len(dropped_columns))"
   ]
  },
  {
   "cell_type": "code",
   "execution_count": 208,
   "metadata": {},
   "outputs": [],
   "source": [
    "# 增加一些有利于分类的衍生特征\n",
    "train['id_02_to_mean_card1'] = train['id_02'] / train.groupby(['card1'])['id_02'].transform('mean')\n",
    "train['id_02_to_mean_card4'] = train['id_02'] / train.groupby(['card4'])['id_02'].transform('mean')\n",
    "train['id_02_to_std_card1'] = train['id_02'] / train.groupby(['card1'])['id_02'].transform('std')\n",
    "train['id_02_to_std_card4'] = train['id_02'] / train.groupby(['card4'])['id_02'].transform('std')\n",
    "\n",
    "test['id_02_to_mean_card1'] = test['id_02'] / test.groupby(['card1'])['id_02'].transform('mean')\n",
    "test['id_02_to_mean_card4'] = test['id_02'] / test.groupby(['card4'])['id_02'].transform('mean')\n",
    "test['id_02_to_std_card1'] = test['id_02'] / test.groupby(['card1'])['id_02'].transform('std')\n",
    "test['id_02_to_std_card4'] = test['id_02'] / test.groupby(['card4'])['id_02'].transform('std')\n",
    "\n",
    "train['D15_to_mean_card1'] = train['D15'] / train.groupby(['card1'])['D15'].transform('mean')\n",
    "train['D15_to_mean_card4'] = train['D15'] / train.groupby(['card4'])['D15'].transform('mean')\n",
    "train['D15_to_std_card1'] = train['D15'] / train.groupby(['card1'])['D15'].transform('std')\n",
    "train['D15_to_std_card4'] = train['D15'] / train.groupby(['card4'])['D15'].transform('std')\n",
    "\n",
    "test['D15_to_mean_card1'] = test['D15'] / test.groupby(['card1'])['D15'].transform('mean')\n",
    "test['D15_to_mean_card4'] = test['D15'] / test.groupby(['card4'])['D15'].transform('mean')\n",
    "test['D15_to_std_card1'] = test['D15'] / test.groupby(['card1'])['D15'].transform('std')\n",
    "test['D15_to_std_card4'] = test['D15'] / test.groupby(['card4'])['D15'].transform('std')\n",
    "\n",
    "train['D15_to_mean_addr1'] = train['D15'] / train.groupby(['addr1'])['D15'].transform('mean')\n",
    "train['D15_to_mean_card4'] = train['D15'] / train.groupby(['card4'])['D15'].transform('mean')\n",
    "train['D15_to_std_addr1'] = train['D15'] / train.groupby(['addr1'])['D15'].transform('std')\n",
    "train['D15_to_std_card4'] = train['D15'] / train.groupby(['card4'])['D15'].transform('std')\n",
    "\n",
    "test['D15_to_mean_addr1'] = test['D15'] / test.groupby(['addr1'])['D15'].transform('mean')\n",
    "test['D15_to_mean_card4'] = test['D15'] / test.groupby(['card4'])['D15'].transform('mean')\n",
    "test['D15_to_std_addr1'] = test['D15'] / test.groupby(['addr1'])['D15'].transform('std')\n",
    "test['D15_to_std_card4'] = test['D15'] / test.groupby(['card4'])['D15'].transform('std')"
   ]
  },
  {
   "cell_type": "code",
   "execution_count": 209,
   "metadata": {},
   "outputs": [],
   "source": [
    "# Let's add some kind of client uID based on cardID ad addr columns\n",
    "train['uid'] = train['card1'].astype(str) + '_' + train['card2'].astype(str)\n",
    "test['uid'] = test['card1'].astype(str) + '_' + test['card2'].astype(str)\n",
    "\n",
    "train['uid2'] = train['uid'].astype(str) + '_' + train['card3'].astype(str) + '_' + train['card5'].astype(str)\n",
    "test['uid2'] = test['uid'].astype(str) + '_' + test['card3'].astype(str) + '_' + test['card5'].astype(str)\n",
    "\n",
    "train['uid3'] = train['uid2'].astype(str) + '_' + train['addr1'].astype(str) + '_' + train['addr2'].astype(str)\n",
    "test['uid3'] = test['uid2'].astype(str) + '_' + test['addr1'].astype(str) + '_' + test['addr2'].astype(str)"
   ]
  },
  {
   "cell_type": "code",
   "execution_count": 210,
   "metadata": {},
   "outputs": [],
   "source": [
    "# Check if the Transaction Amount is common or not (we can use freq encoding here)\n",
    "# In our dialog with a model we are telling to trust or not to these values \n",
    "train['TransactionAmt_check'] = np.where(train['TransactionAmt'].isin(test['TransactionAmt']), 1, 0)\n",
    "test['TransactionAmt_check'] = np.where(test['TransactionAmt'].isin(train['TransactionAmt']), 1, 0)\n",
    "# New feature - decimal part of the transaction amount 小数点代表不同区域\n",
    "train['TransactionAmt_decimal'] = ((train['TransactionAmt'] - train['TransactionAmt'].astype(int)) * 1000).astype(\n",
    "    int)\n",
    "test['TransactionAmt_decimal'] = ((test['TransactionAmt'] - test['TransactionAmt'].astype(int)) * 1000).astype(int)\n",
    "#其他衍生变量\n",
    "train['TransactionAmt_to_mean_card1'] = train['TransactionAmt'] / train.groupby(['card1'])[ 'TransactionAmt'].transform('mean')\n",
    "train['TransactionAmt_to_mean_card4'] = train['TransactionAmt'] / train.groupby(['card4'])['TransactionAmt'].transform('mean')\n",
    "train['TransactionAmt_to_std_card1'] = train['TransactionAmt'] / train.groupby(['card1'])[ 'TransactionAmt'].transform('std')\n",
    "train['TransactionAmt_to_std_card4'] = train['TransactionAmt'] / train.groupby(['card4'])['TransactionAmt'].transform('std')\n",
    "\n",
    "test['TransactionAmt_to_mean_card1'] = test['TransactionAmt'] / test.groupby(['card1'])['TransactionAmt'].transform('mean')\n",
    "test['TransactionAmt_to_mean_card4'] = test['TransactionAmt'] / test.groupby(['card4'])['TransactionAmt'].transform( 'mean')\n",
    "test['TransactionAmt_to_std_card1'] = test['TransactionAmt'] / test.groupby(['card1'])['TransactionAmt'].transform('std')\n",
    "test['TransactionAmt_to_std_card4'] = test['TransactionAmt'] / test.groupby(['card4'])['TransactionAmt'].transform('std')\n",
    "\n",
    "train['TransactionAmt_to_mean_card2'] = train['TransactionAmt'] / train.groupby(['card2'])[ 'TransactionAmt'].transform('mean')\n",
    "train['TransactionAmt_to_mean_card3'] = train['TransactionAmt'] / train.groupby(['card3'])['TransactionAmt'].transform('mean')\n",
    "train['TransactionAmt_to_std_card2'] = train['TransactionAmt'] / train.groupby(['card2'])[ 'TransactionAmt'].transform('std')\n",
    "train['TransactionAmt_to_std_card3'] = train['TransactionAmt'] / train.groupby(['card3'])['TransactionAmt'].transform('std')\n",
    "train['TransactionAmt_to_mean_card5'] = train['TransactionAmt'] / train.groupby(['card5'])[ 'TransactionAmt'].transform('mean')\n",
    "train['TransactionAmt_to_std_card5'] = train['TransactionAmt'] / train.groupby(['card5'])[ 'TransactionAmt'].transform('std')\n",
    "\n",
    "test['TransactionAmt_to_mean_card2'] = test['TransactionAmt'] / test.groupby(['card2'])['TransactionAmt'].transform('mean')\n",
    "test['TransactionAmt_to_mean_card3'] = test['TransactionAmt'] / test.groupby(['card3'])['TransactionAmt'].transform( 'mean')\n",
    "test['TransactionAmt_to_std_card2'] = test['TransactionAmt'] / test.groupby(['card2'])['TransactionAmt'].transform('std')\n",
    "test['TransactionAmt_to_std_card3'] = test['TransactionAmt'] / test.groupby(['card3'])['TransactionAmt'].transform('std')\n",
    "test['TransactionAmt_to_mean_card5'] = test['TransactionAmt'] / test.groupby(['card5'])['TransactionAmt'].transform( 'mean')\n",
    "test['TransactionAmt_to_std_card5'] = test['TransactionAmt'] / test.groupby(['card5'])['TransactionAmt'].transform('std')\n",
    "#二次衍生变量\n",
    "train['TransactionAmt_to_mean_uid'] = train['TransactionAmt'] / train.groupby(['uid'])[ 'TransactionAmt'].transform('mean')\n",
    "train['TransactionAmt_to_mean_uid2'] = train['TransactionAmt'] / train.groupby(['uid2'])['TransactionAmt'].transform('mean')\n",
    "train['TransactionAmt_to_mean_uid3'] = train['TransactionAmt'] / train.groupby(['uid3'])[ 'TransactionAmt'].transform('mean')\n",
    "train['TransactionAmt_to_std_uid'] = train['TransactionAmt'] / train.groupby(['uid'])[ 'TransactionAmt'].transform('std')\n",
    "train['TransactionAmt_to_std_uid2'] = train['TransactionAmt'] / train.groupby(['uid2'])['TransactionAmt'].transform('std')\n",
    "train['TransactionAmt_to_std_uid3'] = train['TransactionAmt'] / train.groupby(['uid3'])[ 'TransactionAmt'].transform('std')\n",
    "\n",
    "test['TransactionAmt_to_mean_uid'] = test['TransactionAmt'] / test.groupby(['uid'])['TransactionAmt'].transform('mean')\n",
    "test['TransactionAmt_to_mean_uid2'] = test['TransactionAmt'] / test.groupby(['uid2'])['TransactionAmt'].transform( 'mean')\n",
    "test['TransactionAmt_to_mean_uid3'] = test['TransactionAmt'] / test.groupby(['uid3'])['TransactionAmt'].transform( 'mean')\n",
    "test['TransactionAmt_to_std_uid'] = test['TransactionAmt'] / test.groupby(['uid'])['TransactionAmt'].transform('std')\n",
    "test['TransactionAmt_to_std_uid2'] = test['TransactionAmt'] / test.groupby(['uid2'])['TransactionAmt'].transform('std')\n",
    "test['TransactionAmt_to_std_uid3'] = test['TransactionAmt'] / test.groupby(['uid3'])['TransactionAmt'].transform('std')\n",
    "\n",
    "#最后转化成log值\n",
    "train['TransactionAmt'] = np.log1p(train['TransactionAmt'])\n",
    "test['TransactionAmt'] = np.log1p(test['TransactionAmt'])"
   ]
  },
  {
   "cell_type": "code",
   "execution_count": 211,
   "metadata": {},
   "outputs": [],
   "source": [
    "########################### M columns (except M4)\n",
    "# All these columns are binary encoded 1/0\n",
    "# We can have some features from it\n",
    "i_cols = ['M1','M2','M3','M5','M6','M7','M8','M9']\n",
    "\n",
    "for df in [train, test]:\n",
    "    df['M_sum'] = df[i_cols].sum(axis=1).astype(np.int8)\n",
    "    df['M_na'] = df[i_cols].isna().sum(axis=1).astype(np.int8)"
   ]
  },
  {
   "cell_type": "code",
   "execution_count": 212,
   "metadata": {},
   "outputs": [],
   "source": [
    "#变量用count做衍生  计数编码\n",
    "#card1的 #变量用count做衍生  计数编码\n",
    "train['card1_count_full'] = train['card1'].map(\n",
    "    pd.concat([train['card1'], test['card1']], ignore_index=True).value_counts(dropna=False))\n",
    "test['card1_count_full'] = test['card1'].map(\n",
    "    pd.concat([train['card1'], test['card1']], ignore_index=True).value_counts(dropna=False))\n",
    "\n",
    "for feature in ['card2', 'card3', 'card4', 'card5', 'card6', 'id_34', 'id_36']:\n",
    "    train[feature + '_count_full'] = train[feature].map(\n",
    "        pd.concat([train[feature], test[feature]], ignore_index=True).value_counts(dropna=False))\n",
    "    test[feature + '_count_full'] = test[feature].map(\n",
    "        pd.concat([train[feature], test[feature]], ignore_index=True).value_counts(dropna=False))\n",
    "\n",
    "for feature in ['id_01', 'id_31', 'id_33', 'id_35','id_34', 'id_36']:\n",
    "    train[feature + '_count_dist'] = train[feature].map(train[feature].value_counts(dropna=False))\n",
    "    test[feature + '_count_dist'] = test[feature].map(test[feature].value_counts(dropna=False))\n",
    "########################### Reset values for \"noise\" card1\n",
    "for col in ['card1']:\n",
    "    valid_card = pd.concat([train[[col]], test[[col]]])\n",
    "    valid_card = valid_card[col].value_counts()\n",
    "    valid_card = valid_card[valid_card > 2]\n",
    "    valid_card = list(valid_card.index)\n",
    "\n",
    "    train[col] = np.where(train[col].isin(test[col]), train[col], np.nan)\n",
    "    test[col] = np.where(test[col].isin(train[col]), test[col], np.nan)\n",
    "\n",
    "    train[col] = np.where(train[col].isin(valid_card), train[col], np.nan)\n",
    "    test[col] = np.where(test[col].isin(valid_card), test[col], np.nan)"
   ]
  },
  {
   "cell_type": "code",
   "execution_count": 213,
   "metadata": {},
   "outputs": [
    {
     "name": "stdout",
     "output_type": "stream",
     "text": [
      "filling numerical columns null values done\n"
     ]
    },
    {
     "data": {
      "text/plain": [
       "['ProductCD', 'card4', 'card6', 'P_emaildomain', 'R_emaildomain']"
      ]
     },
     "execution_count": 213,
     "metadata": {},
     "output_type": "execute_result"
    }
   ],
   "source": [
    "# 填充掉空值 \n",
    "numerical_columns = list(test.select_dtypes(exclude=['object']).columns)\n",
    "train[numerical_columns] = train[numerical_columns].fillna(train[numerical_columns].median())\n",
    "test[numerical_columns] = test[numerical_columns].fillna(train[numerical_columns].median())\n",
    "print(\"filling numerical columns null values done\")\n",
    "\n",
    "# Now, we find out categorical columns\n",
    "categorical_columns = list(filter(lambda x: x not in numerical_columns, list(test.columns)))\n",
    "categorical_columns[:5]"
   ]
  },
  {
   "cell_type": "code",
   "execution_count": 214,
   "metadata": {},
   "outputs": [
    {
     "name": "stdout",
     "output_type": "stream",
     "text": [
      "filling categorica columns null values done\n"
     ]
    }
   ],
   "source": [
    "# then, fill missing values in categorical columns\n",
    "train[categorical_columns] = train[categorical_columns].fillna(train[categorical_columns].mode())\n",
    "test[categorical_columns] = test[categorical_columns].fillna(train[categorical_columns].mode())\n",
    "print(\"filling categorica columns null values done\")"
   ]
  },
  {
   "cell_type": "code",
   "execution_count": 215,
   "metadata": {},
   "outputs": [
    {
     "data": {
      "application/vnd.jupyter.widget-view+json": {
       "model_id": "5d2c6e69ac3a42259dcec9a3b3b46804",
       "version_major": 2,
       "version_minor": 0
      },
      "text/plain": [
       "HBox(children=(IntProgress(value=0, max=43), HTML(value='')))"
      ]
     },
     "metadata": {},
     "output_type": "display_data"
    },
    {
     "name": "stdout",
     "output_type": "stream",
     "text": [
      "\n"
     ]
    }
   ],
   "source": [
    "# Label Encoding 转化X_train[f].dtype=='object'的列\n",
    "#标准化标签，将标签值统一转换成range(标签值个数-1)范围        \n",
    "for col in tqdm_notebook(categorical_columns):\n",
    "    le = LabelEncoder()\n",
    "    le.fit(list(train[col].astype(str).values) + list(test[col].astype(str).values))\n",
    "    train[col] = le.transform(list(train[col].astype(str).values))\n",
    "    test[col] = le.transform(list(test[col].astype(str).values))\n",
    "\n",
    "# Because of using cross validation, we use this step later when we want to find best model. Now, we have to remove isFraud column from daraframe\n",
    "labels = train[\"isFraud\"]\n",
    "train.drop(['isFraud', 'TransactionDT', 'TransactionID'], axis=1, inplace=True)\n",
    "test.drop(['TransactionDT', 'TransactionID'], axis=1,inplace=True)"
   ]
  },
  {
   "cell_type": "code",
   "execution_count": 216,
   "metadata": {},
   "outputs": [
    {
     "data": {
      "text/plain": [
       "35"
      ]
     },
     "execution_count": 216,
     "metadata": {},
     "output_type": "execute_result"
    }
   ],
   "source": [
    "X_train, y_train = train, labels\n",
    "del train, labels\n",
    "gc.collect()"
   ]
  },
  {
   "cell_type": "code",
   "execution_count": 217,
   "metadata": {},
   "outputs": [],
   "source": [
    "params = {\n",
    "    'learning_rate': 0.01,#0.05\n",
    "    'boosting_type': 'gbdt',\n",
    "    'objective': 'binary',\n",
    "    'metric': 'auc',\n",
    "    'feature_fraction': 0.6,\n",
    "    'bagging_fraction': 0.8,\n",
    "    'bagging_freq': 2,\n",
    "    'num_leaves': 380,#150 小于2的max_depth次方\n",
    "    'min_data_in_leaf': 106,\n",
    "    'verbose': -1,\n",
    "    'max_depth': 9,\n",
    "    'lambda_l2': 5, 'lambda_l1': 0,\n",
    "    'nthread': -1,\n",
    "    'seed': 89,\n",
    "    #0903添加的\n",
    "    #'n_estimators':200, ####加这个估计器数目 准确度就下来了\n",
    "#     'tree_method': 'gpu_hist',\n",
    "#     'device': 'gpu', ##如果安装的事gpu版本的lightgbm,可以加快运算\n",
    "#     'gpu_platform_id': 1,# Intel，Nvidia，AMD\n",
    "#     'gpu_device_id': 0\n",
    "}"
   ]
  },
  {
   "cell_type": "code",
   "execution_count": 218,
   "metadata": {},
   "outputs": [
    {
     "name": "stdout",
     "output_type": "stream",
     "text": [
      "Training on fold 1\n",
      "Training until validation scores don't improve for 500 rounds.\n",
      "[1000]\ttraining's auc: 0.990783\tvalid_1's auc: 0.899385\n",
      "Early stopping, best iteration is:\n",
      "[1274]\ttraining's auc: 0.995324\tvalid_1's auc: 0.900501\n",
      "Fold 1 finished in 0:00:55.146830\n",
      "Training on fold 2\n",
      "Training until validation scores don't improve for 500 rounds.\n",
      "[1000]\ttraining's auc: 0.981577\tvalid_1's auc: 0.91701\n",
      "[2000]\ttraining's auc: 0.99529\tvalid_1's auc: 0.919473\n",
      "Early stopping, best iteration is:\n",
      "[1802]\ttraining's auc: 0.99395\tvalid_1's auc: 0.919808\n",
      "Fold 2 finished in 0:01:58.405035\n",
      "Training on fold 3\n",
      "Training until validation scores don't improve for 500 rounds.\n",
      "[1000]\ttraining's auc: 0.976435\tvalid_1's auc: 0.907132\n",
      "[2000]\ttraining's auc: 0.991725\tvalid_1's auc: 0.911786\n",
      "Early stopping, best iteration is:\n",
      "[2290]\ttraining's auc: 0.993879\tvalid_1's auc: 0.912155\n",
      "Fold 3 finished in 0:05:52.938995\n",
      "Training on fold 4\n",
      "Training until validation scores don't improve for 500 rounds.\n",
      "[1000]\ttraining's auc: 0.96959\tvalid_1's auc: 0.923093\n",
      "[2000]\ttraining's auc: 0.986587\tvalid_1's auc: 0.928624\n",
      "[3000]\ttraining's auc: 0.994298\tvalid_1's auc: 0.92948\n",
      "Early stopping, best iteration is:\n",
      "[3136]\ttraining's auc: 0.994967\tvalid_1's auc: 0.929723\n",
      "Fold 4 finished in 0:05:44.961312\n",
      "Training on fold 5\n",
      "Training until validation scores don't improve for 500 rounds.\n",
      "[1000]\ttraining's auc: 0.966276\tvalid_1's auc: 0.920902\n",
      "[2000]\ttraining's auc: 0.983298\tvalid_1's auc: 0.929176\n",
      "[3000]\ttraining's auc: 0.991943\tvalid_1's auc: 0.931756\n",
      "[4000]\ttraining's auc: 0.996172\tvalid_1's auc: 0.932455\n",
      "Early stopping, best iteration is:\n",
      "[4053]\ttraining's auc: 0.996329\tvalid_1's auc: 0.932531\n",
      "Fold 5 finished in 0:08:53.536370\n",
      "------------------------------\n",
      "Training has finished.\n",
      "Total training time is 0:23:24.990545\n",
      "Mean AUC: 0.9189439007434188\n",
      "------------------------------\n"
     ]
    }
   ],
   "source": [
    "#五折交叉验证\n",
    "folds = TimeSeriesSplit(n_splits=5)\n",
    "\n",
    "aucs = list()\n",
    "feature_importances = pd.DataFrame()\n",
    "feature_importances['feature'] = X_train.columns\n",
    "\n",
    "training_start_time = time()\n",
    "for fold, (trn_idx, test_idx) in enumerate(folds.split(X_train, y_train)):\n",
    "    start_time = time()\n",
    "    print('Training on fold {}'.format(fold + 1))\n",
    "    \n",
    "    trn_data = lgb.Dataset(X_train.iloc[trn_idx], label=y_train.iloc[trn_idx])\n",
    "    val_data = lgb.Dataset(X_train.iloc[test_idx], label=y_train.iloc[test_idx])\n",
    "    clf = lgb.train(params, trn_data, 10000, valid_sets = [trn_data, val_data], verbose_eval=1000, early_stopping_rounds=500)\n",
    "\n",
    "    feature_importances['fold_{}'.format(fold + 1)] = clf.feature_importance()\n",
    "    aucs.append(clf.best_score['valid_1']['auc'])\n",
    "    \n",
    "    print('Fold {} finished in {}'.format(fold + 1, str(datetime.timedelta(seconds=time() - start_time))))\n",
    "print('-' * 30)\n",
    "print('Training has finished.')\n",
    "print('Total training time is {}'.format(str(datetime.timedelta(seconds=time() - training_start_time))))\n",
    "print('Mean AUC:', np.mean(aucs))\n",
    "print('-' * 30)"
   ]
  },
  {
   "cell_type": "code",
   "execution_count": 219,
   "metadata": {},
   "outputs": [
    {
     "data": {
      "image/png": "[encoded data removed]",
      "text/plain": [
       "<Figure size 1152x1152 with 1 Axes>"
      ]
     },
     "metadata": {
      "needs_background": "light"
     },
     "output_type": "display_data"
    }
   ],
   "source": [
    "#获取重要特征-----------------------------------------------------------------------------------------------------------\n",
    "feature_importances['average'] = feature_importances[\n",
    "    ['fold_{}'.format(fold + 1) for fold in range(folds.n_splits)]].mean(axis=1)\n",
    "feature_importances.to_csv('feature_importances.csv')\n",
    "\n",
    "plt.figure(figsize=(16, 16))\n",
    "sns.barplot(data=feature_importances.sort_values(by='average', ascending=False).head(50), x='average', y='feature');\n",
    "plt.title('50 TOP feature importance over {} folds average'.format(folds.n_splits));"
   ]
  },
  {
   "cell_type": "code",
   "execution_count": 157,
   "metadata": {},
   "outputs": [],
   "source": [
    "#predict = clf.predict(test)\n",
    "#sample_submission['isFraud']=list(predict)"
   ]
  },
  {
   "cell_type": "code",
   "execution_count": 220,
   "metadata": {},
   "outputs": [
    {
     "data": {
      "text/plain": [
       "LGBMClassifier(bagging_fraction=0.8, bagging_freq=2, boosting_type='gbdt',\n",
       "        class_weight=None, colsample_bytree=1.0, feature_fraction=0.6,\n",
       "        importance_type='split', lambda_l1=0, lambda_l2=5,\n",
       "        learning_rate=0.01, max_depth=9, metric='auc',\n",
       "        min_child_samples=20, min_child_weight=0.001, min_data_in_leaf=106,\n",
       "        min_split_gain=0.0, n_estimators=100, n_jobs=-1, nthread=-1,\n",
       "        num_boost_round=4053, num_leaves=380, objective='binary',\n",
       "        random_state=None, reg_alpha=0.0, reg_lambda=0.0, seed=89,\n",
       "        silent=True, subsample=1.0, subsample_for_bin=200000,\n",
       "        subsample_freq=0, verbose=-1)"
      ]
     },
     "execution_count": 220,
     "metadata": {},
     "output_type": "execute_result"
    }
   ],
   "source": [
    "best_iter = clf.best_iteration\n",
    "clf = lgb.LGBMClassifier(**params, num_boost_round=best_iter)\n",
    "clf.fit(X_train, y_train)"
   ]
  },
  {
   "cell_type": "code",
   "execution_count": 176,
   "metadata": {},
   "outputs": [
    {
     "data": {
      "text/plain": [
       "((590540, 408), (506691, 408))"
      ]
     },
     "execution_count": 176,
     "metadata": {},
     "output_type": "execute_result"
    }
   ],
   "source": [
    "X_train.shape, test.shape"
   ]
  },
  {
   "cell_type": "code",
   "execution_count": 221,
   "metadata": {},
   "outputs": [],
   "source": [
    "sample_submission['isFraud'] = clf.predict_proba(test)[:, 1]"
   ]
  },
  {
   "cell_type": "code",
   "execution_count": 222,
   "metadata": {},
   "outputs": [
    {
     "data": {
      "text/html": [
       "<div>\n",
       "<style scoped>\n",
       "    .dataframe tbody tr th:only-of-type {\n",
       "        vertical-align: middle;\n",
       "    }\n",
       "\n",
       "    .dataframe tbody tr th {\n",
       "        vertical-align: top;\n",
       "    }\n",
       "\n",
       "    .dataframe thead th {\n",
       "        text-align: right;\n",
       "    }\n",
       "</style>\n",
       "<table border=\"1\" class=\"dataframe\">\n",
       "  <thead>\n",
       "    <tr style=\"text-align: right;\">\n",
       "      <th></th>\n",
       "      <th>TransactionID</th>\n",
       "      <th>isFraud</th>\n",
       "    </tr>\n",
       "  </thead>\n",
       "  <tbody>\n",
       "    <tr>\n",
       "      <th>0</th>\n",
       "      <td>3663549</td>\n",
       "      <td>0.000490</td>\n",
       "    </tr>\n",
       "    <tr>\n",
       "      <th>1</th>\n",
       "      <td>3663550</td>\n",
       "      <td>0.001197</td>\n",
       "    </tr>\n",
       "    <tr>\n",
       "      <th>2</th>\n",
       "      <td>3663551</td>\n",
       "      <td>0.001043</td>\n",
       "    </tr>\n",
       "  </tbody>\n",
       "</table>\n",
       "</div>"
      ],
      "text/plain": [
       "   TransactionID   isFraud\n",
       "0        3663549  0.000490\n",
       "1        3663550  0.001197\n",
       "2        3663551  0.001043"
      ]
     },
     "execution_count": 222,
     "metadata": {},
     "output_type": "execute_result"
    }
   ],
   "source": [
    "sample_submission.head(3)"
   ]
  },
  {
   "cell_type": "code",
   "execution_count": 179,
   "metadata": {},
   "outputs": [
    {
     "data": {
      "text/plain": [
       "506691"
      ]
     },
     "execution_count": 179,
     "metadata": {},
     "output_type": "execute_result"
    }
   ],
   "source": [
    "len(sample_submission)"
   ]
  },
  {
   "cell_type": "code",
   "execution_count": 223,
   "metadata": {},
   "outputs": [],
   "source": [
    "sample_submission.to_csv('./output/aaa117.csv', index=False)"
   ]
  }
 ],
 "metadata": {
  "kernelspec": {
   "display_name": "Python 3",
   "language": "python",
   "name": "python3"
  },
  "language_info": {
   "codemirror_mode": {
    "name": "ipython",
    "version": 3
   },
   "file_extension": ".py",
   "mimetype": "text/x-python",
   "name": "python",
   "nbconvert_exporter": "python",
   "pygments_lexer": "ipython3",
   "version": "3.5.2"
  }
 },
 "nbformat": 4,
 "nbformat_minor": 2
}
